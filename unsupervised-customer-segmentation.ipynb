{
 "cells": [
  {
   "cell_type": "markdown",
   "id": "0dfd1689",
   "metadata": {},
   "source": [
    "Unüberwachtes Lernen zur Kundensegmentierung\n",
    "\n",
    "Ein Einzelhandelsunternehmen möchte seine Kunden in Gruppen einteilen, um für jede Gruppe geeignete Marketingstrategien zu entwickeln. Zu diesem Zweck werden die bisherigen Einkaufsgewohnheiten der Kunden untersucht, und Kunden mit ähnlichen Eigenschaften werden in Segmente unterteilt.\n",
    "\n",
    "Informationen zum Datensatz\n",
    "\n",
    "Der Datensatz umfasst die bisherigen Einkaufsgewohnheiten von Kunden, die in bestimmten Jahren sowohl online als auch offline eingekauft haben.\n",
    "\n",
    "Merkmale:\n",
    "\n",
    "cust_id : Eindeutige Kundennummer\n",
    "\n",
    "purchase_channel : Kanal, über den die Bestellung aufgegeben wurde (z. B. Android, iOS, Desktop, Mobile)\n",
    "\n",
    "recent_channel : Kanal, über den die letzte Bestellung aufgegeben wurde\n",
    "\n",
    "first_purchase_date : Datum des ersten Einkaufs\n",
    "\n",
    "last_purchase_date : Datum des letzten Einkaufs\n",
    "\n",
    "last_online_date : Datum des letzten Online-Einkaufs\n",
    "\n",
    "last_offline_date : Datum des letzten Offline-Einkaufs\n",
    "\n",
    "num_orders_online : Gesamtanzahl der Online-Einkäufe\n",
    "\n",
    "num_orders_offline : Gesamtanzahl der Offline-Einkäufe\n",
    "\n",
    "spend_offline_total : Gesamtausgaben bei Offline-Einkäufen\n",
    "\n",
    "spend_online_total : Gesamtausgaben bei Online-Einkäufen\n",
    "\n",
    "categories_last12 : Kategorien, in denen in den letzten 12 Monaten eingekauft wurde"
   ]
  },
  {
   "cell_type": "code",
   "execution_count": 41,
   "id": "92761b93-4c65-4c51-b494-7d8d71b353d6",
   "metadata": {},
   "outputs": [
    {
     "name": "stdout",
     "output_type": "stream",
     "text": [
      "Note: you may need to restart the kernel to use updated packages.\n",
      "Distutils compatibility layer installed successfully!\n"
     ]
    }
   ],
   "source": [
    "# Installation der benötigten Bibliotheken\n",
    "%pip install -q yellowbrick\n",
    "import numpy as np\n",
    "import pandas as pd\n",
    "import seaborn as sns\n",
    "import random\n",
    "import warnings\n",
    "from datetime import datetime\n",
    "import matplotlib.pyplot as plt\n",
    "from sklearn.cluster import KMeans\n",
    "from sklearn.preprocessing import MinMaxScaler\n",
    "from yellowbrick.cluster import KElbowVisualizer\n",
    "from scipy.cluster.hierarchy import linkage\n",
    "from scipy.cluster.hierarchy import linkage, dendrogram\n",
    "from sklearn.preprocessing import StandardScaler\n",
    "from sklearn.model_selection import cross_val_score, GridSearchCV\n",
    "from sklearn.preprocessing import LabelEncoder\n",
    "from sklearn.cluster import AgglomerativeClustering\n",
    "\n",
    "\n",
    "# Monkey patch for distutils removal in Python 3.12+\n",
    "# Install required packages first\n",
    "import subprocess\n",
    "import sys\n",
    "\n",
    "def install_package(package):\n",
    "    try:\n",
    "        __import__(package)\n",
    "    except ImportError:\n",
    "        subprocess.check_call([sys.executable, \"-m\", \"pip\", \"install\", package])\n",
    "\n",
    "install_package(\"packaging\")\n",
    "install_package(\"setuptools\")\n",
    "\n",
    "# Create distutils compatibility layer\n",
    "import types\n",
    "from packaging import version\n",
    "\n",
    "class LooseVersion:\n",
    "    def __init__(self, vstring):\n",
    "        self.vstring = str(vstring)\n",
    "        self._version = version.parse(self.vstring)\n",
    "    \n",
    "    def __str__(self):\n",
    "        return self.vstring\n",
    "    \n",
    "    def __eq__(self, other):\n",
    "        return self._version == version.parse(str(other))\n",
    "    \n",
    "    def __lt__(self, other):\n",
    "        return self._version < version.parse(str(other))\n",
    "    \n",
    "    def __le__(self, other):\n",
    "        return self._version <= version.parse(str(other))\n",
    "    \n",
    "    def __gt__(self, other):\n",
    "        return self._version > version.parse(str(other))\n",
    "    \n",
    "    def __ge__(self, other):\n",
    "        return self._version >= version.parse(str(other))\n",
    "\n",
    "# Create the distutils module structure\n",
    "distutils_module = types.ModuleType('distutils')\n",
    "version_module = types.ModuleType('distutils.version')\n",
    "version_module.LooseVersion = LooseVersion\n",
    "distutils_module.version = version_module\n",
    "\n",
    "sys.modules['distutils'] = distutils_module\n",
    "sys.modules['distutils.version'] = version_module\n",
    "\n",
    "print(\"Distutils compatibility layer installed successfully!\")\n"
   ]
  },
  {
   "cell_type": "code",
   "execution_count": 42,
   "id": "f7ad1112-cbe9-482a-a7b8-eb15345994d2",
   "metadata": {},
   "outputs": [],
   "source": [
    "# Anzeigeeinstellungen für Pandas\n",
    "pd.set_option('display.max_columns', 50)  \n",
    "# → Maximale Anzahl der anzuzeigenden Spalten = 50\n",
    "\n",
    "pd.set_option('display.max_rows', 80)  \n",
    "# → Maximale Anzahl der anzuzeigenden Zeilen = 80\n",
    "\n",
    "pd.set_option('display.float_format', lambda x: '%.3f' % x)  \n",
    "# → Dezimalzahlen werden mit 3 Nachkommastellen angezeigt\n",
    "\n",
    "pd.set_option('display.width', 500)  \n",
    "# → Maximale Breite der Tabellenausgabe = 500 Zeichen\n",
    "\n",
    "# Warnungen ausblenden\n",
    "warnings.simplefilter(action='ignore')  \n",
    "# → Unterdrückt unnötige Warnmeldungen in der Ausgabe\n"
   ]
  },
  {
   "cell_type": "code",
   "execution_count": 43,
   "id": "f93cff76-3e8f-4694-ae4b-1c85d3b56d61",
   "metadata": {},
   "outputs": [
    {
     "data": {
      "application/vnd.microsoft.datawrangler.viewer.v0+json": {
       "columns": [
        {
         "name": "index",
         "rawType": "int64",
         "type": "integer"
        },
        {
         "name": "cust_id",
         "rawType": "object",
         "type": "string"
        },
        {
         "name": "purchase_channel",
         "rawType": "object",
         "type": "unknown"
        },
        {
         "name": "recent_channel",
         "rawType": "object",
         "type": "unknown"
        },
        {
         "name": "first_purchase_date",
         "rawType": "object",
         "type": "unknown"
        },
        {
         "name": "last_purchase_date",
         "rawType": "object",
         "type": "unknown"
        },
        {
         "name": "last_online_date",
         "rawType": "object",
         "type": "unknown"
        },
        {
         "name": "last_offline_date",
         "rawType": "object",
         "type": "unknown"
        },
        {
         "name": "num_orders_online",
         "rawType": "float64",
         "type": "float"
        },
        {
         "name": "num_orders_offline",
         "rawType": "float64",
         "type": "float"
        },
        {
         "name": "spend_offline_total",
         "rawType": "float64",
         "type": "float"
        },
        {
         "name": "spend_online_total",
         "rawType": "float64",
         "type": "float"
        },
        {
         "name": "categories_last12",
         "rawType": "object",
         "type": "unknown"
        }
       ],
       "ref": "205545e7-4f09-4ff9-a293-914e5333e222",
       "rows": [
        [
         "0",
         "cc294636-19f0-11eb-8d74-000d3a38a36f",
         "Android App",
         "Offline",
         "2020-10-30",
         "2021-02-26",
         "2021-02-21",
         "2021-02-26",
         "4.0",
         "1.0",
         "139.99",
         "799.38",
         "[KADIN]"
        ],
        [
         "1",
         "f431bd5a-ab7b-11e9-a2fc-000d3a38a36f,Android App,Mobile,2017-02-08,2021-02-16,2021-02-16,2020-01-10,19.0,2.0,159.97,1853.58,\"[ERKEK, COCUK, KADIN, AKTIFSPOR]\"",
         null,
         null,
         null,
         null,
         null,
         null,
         null,
         null,
         null,
         null,
         null
        ],
        [
         "2",
         "69b69676-1a40-11ea-941b-000d3a38a36f,Android App,Android App,2019-11-27,2020-11-27,2020-11-27,2019-12-01,3.0,2.0,189.97,395.35,\"[ERKEK, KADIN]\"",
         null,
         null,
         null,
         null,
         null,
         null,
         null,
         null,
         null,
         null,
         null
        ],
        [
         "3",
         "1854e56c-491f-11eb-806e-000d3a38a36f,Android App,Android App,2021-01-06,2021-01-17,2021-01-17,2021-01-06,1.0,1.0,39.99,81.98,\"[AKTIFCOCUK, COCUK]\"",
         null,
         null,
         null,
         null,
         null,
         null,
         null,
         null,
         null,
         null,
         null
        ],
        [
         "4",
         "d6ea1074-f1f5-11e9-9346-000d3a38a36f",
         "Desktop",
         "Desktop",
         "2019-08-03",
         "2021-03-07",
         "2021-03-07",
         "2019-08-03",
         "1.0",
         "1.0",
         "49.99",
         "159.99",
         "[AKTIFSPOR]"
        ]
       ],
       "shape": {
        "columns": 12,
        "rows": 5
       }
      },
      "text/html": [
       "<div>\n",
       "<style scoped>\n",
       "    .dataframe tbody tr th:only-of-type {\n",
       "        vertical-align: middle;\n",
       "    }\n",
       "\n",
       "    .dataframe tbody tr th {\n",
       "        vertical-align: top;\n",
       "    }\n",
       "\n",
       "    .dataframe thead th {\n",
       "        text-align: right;\n",
       "    }\n",
       "</style>\n",
       "<table border=\"1\" class=\"dataframe\">\n",
       "  <thead>\n",
       "    <tr style=\"text-align: right;\">\n",
       "      <th></th>\n",
       "      <th>cust_id</th>\n",
       "      <th>purchase_channel</th>\n",
       "      <th>recent_channel</th>\n",
       "      <th>first_purchase_date</th>\n",
       "      <th>last_purchase_date</th>\n",
       "      <th>last_online_date</th>\n",
       "      <th>last_offline_date</th>\n",
       "      <th>num_orders_online</th>\n",
       "      <th>num_orders_offline</th>\n",
       "      <th>spend_offline_total</th>\n",
       "      <th>spend_online_total</th>\n",
       "      <th>categories_last12</th>\n",
       "    </tr>\n",
       "  </thead>\n",
       "  <tbody>\n",
       "    <tr>\n",
       "      <th>0</th>\n",
       "      <td>cc294636-19f0-11eb-8d74-000d3a38a36f</td>\n",
       "      <td>Android App</td>\n",
       "      <td>Offline</td>\n",
       "      <td>2020-10-30</td>\n",
       "      <td>2021-02-26</td>\n",
       "      <td>2021-02-21</td>\n",
       "      <td>2021-02-26</td>\n",
       "      <td>4.000</td>\n",
       "      <td>1.000</td>\n",
       "      <td>139.990</td>\n",
       "      <td>799.380</td>\n",
       "      <td>[KADIN]</td>\n",
       "    </tr>\n",
       "    <tr>\n",
       "      <th>1</th>\n",
       "      <td>f431bd5a-ab7b-11e9-a2fc-000d3a38a36f,Android A...</td>\n",
       "      <td>NaN</td>\n",
       "      <td>NaN</td>\n",
       "      <td>NaN</td>\n",
       "      <td>NaN</td>\n",
       "      <td>NaN</td>\n",
       "      <td>NaN</td>\n",
       "      <td>NaN</td>\n",
       "      <td>NaN</td>\n",
       "      <td>NaN</td>\n",
       "      <td>NaN</td>\n",
       "      <td>NaN</td>\n",
       "    </tr>\n",
       "    <tr>\n",
       "      <th>2</th>\n",
       "      <td>69b69676-1a40-11ea-941b-000d3a38a36f,Android A...</td>\n",
       "      <td>NaN</td>\n",
       "      <td>NaN</td>\n",
       "      <td>NaN</td>\n",
       "      <td>NaN</td>\n",
       "      <td>NaN</td>\n",
       "      <td>NaN</td>\n",
       "      <td>NaN</td>\n",
       "      <td>NaN</td>\n",
       "      <td>NaN</td>\n",
       "      <td>NaN</td>\n",
       "      <td>NaN</td>\n",
       "    </tr>\n",
       "    <tr>\n",
       "      <th>3</th>\n",
       "      <td>1854e56c-491f-11eb-806e-000d3a38a36f,Android A...</td>\n",
       "      <td>NaN</td>\n",
       "      <td>NaN</td>\n",
       "      <td>NaN</td>\n",
       "      <td>NaN</td>\n",
       "      <td>NaN</td>\n",
       "      <td>NaN</td>\n",
       "      <td>NaN</td>\n",
       "      <td>NaN</td>\n",
       "      <td>NaN</td>\n",
       "      <td>NaN</td>\n",
       "      <td>NaN</td>\n",
       "    </tr>\n",
       "    <tr>\n",
       "      <th>4</th>\n",
       "      <td>d6ea1074-f1f5-11e9-9346-000d3a38a36f</td>\n",
       "      <td>Desktop</td>\n",
       "      <td>Desktop</td>\n",
       "      <td>2019-08-03</td>\n",
       "      <td>2021-03-07</td>\n",
       "      <td>2021-03-07</td>\n",
       "      <td>2019-08-03</td>\n",
       "      <td>1.000</td>\n",
       "      <td>1.000</td>\n",
       "      <td>49.990</td>\n",
       "      <td>159.990</td>\n",
       "      <td>[AKTIFSPOR]</td>\n",
       "    </tr>\n",
       "  </tbody>\n",
       "</table>\n",
       "</div>"
      ],
      "text/plain": [
       "                                             cust_id purchase_channel recent_channel first_purchase_date last_purchase_date last_online_date last_offline_date  num_orders_online  num_orders_offline  spend_offline_total  spend_online_total categories_last12\n",
       "0               cc294636-19f0-11eb-8d74-000d3a38a36f      Android App        Offline          2020-10-30         2021-02-26       2021-02-21        2021-02-26              4.000               1.000              139.990             799.380           [KADIN]\n",
       "1  f431bd5a-ab7b-11e9-a2fc-000d3a38a36f,Android A...              NaN            NaN                 NaN                NaN              NaN               NaN                NaN                 NaN                  NaN                 NaN               NaN\n",
       "2  69b69676-1a40-11ea-941b-000d3a38a36f,Android A...              NaN            NaN                 NaN                NaN              NaN               NaN                NaN                 NaN                  NaN                 NaN               NaN\n",
       "3  1854e56c-491f-11eb-806e-000d3a38a36f,Android A...              NaN            NaN                 NaN                NaN              NaN               NaN                NaN                 NaN                  NaN                 NaN               NaN\n",
       "4               d6ea1074-f1f5-11e9-9346-000d3a38a36f          Desktop        Desktop          2019-08-03         2021-03-07       2021-03-07        2019-08-03              1.000               1.000               49.990             159.990       [AKTIFSPOR]"
      ]
     },
     "execution_count": 43,
     "metadata": {},
     "output_type": "execute_result"
    }
   ],
   "source": [
    "#Einlesen des Datensatzes\n",
    "df = pd.read_csv(\"/Users/nesri/repos/segmentasyon/X_data.csv\")\n",
    "df.head()"
   ]
  },
  {
   "cell_type": "code",
   "execution_count": 44,
   "id": "cdc4b582-bd0e-4594-b7db-68d730f38fb8",
   "metadata": {},
   "outputs": [
    {
     "data": {
      "application/vnd.microsoft.datawrangler.viewer.v0+json": {
       "columns": [
        {
         "name": "index",
         "rawType": "object",
         "type": "string"
        },
        {
         "name": "0",
         "rawType": "int64",
         "type": "integer"
        }
       ],
       "ref": "1ba30579-1260-4181-b684-04a8b5dc7dbc",
       "rows": [
        [
         "cust_id",
         "0"
        ],
        [
         "purchase_channel",
         "8700"
        ],
        [
         "recent_channel",
         "8700"
        ],
        [
         "first_purchase_date",
         "8700"
        ],
        [
         "last_purchase_date",
         "8700"
        ],
        [
         "last_online_date",
         "8700"
        ],
        [
         "last_offline_date",
         "8700"
        ],
        [
         "num_orders_online",
         "8700"
        ],
        [
         "num_orders_offline",
         "8700"
        ],
        [
         "spend_offline_total",
         "8700"
        ],
        [
         "spend_online_total",
         "8700"
        ],
        [
         "categories_last12",
         "8700"
        ]
       ],
       "shape": {
        "columns": 1,
        "rows": 12
       }
      },
      "text/plain": [
       "cust_id                   0\n",
       "purchase_channel       8700\n",
       "recent_channel         8700\n",
       "first_purchase_date    8700\n",
       "last_purchase_date     8700\n",
       "last_online_date       8700\n",
       "last_offline_date      8700\n",
       "num_orders_online      8700\n",
       "num_orders_offline     8700\n",
       "spend_offline_total    8700\n",
       "spend_online_total     8700\n",
       "categories_last12      8700\n",
       "dtype: int64"
      ]
     },
     "execution_count": 44,
     "metadata": {},
     "output_type": "execute_result"
    }
   ],
   "source": [
    "#Überprüfung fehlender Werte\n",
    "df.isnull().sum()"
   ]
  },
  {
   "cell_type": "code",
   "execution_count": 45,
   "id": "dc1b6755-d2b7-4782-8d39-8ce2ffa30405",
   "metadata": {},
   "outputs": [],
   "source": [
    "#Bereinigung des Datensatzes\n",
    "with open(\"X_data.csv\", \"r\", encoding=\"utf-8\") as f:\n",
    "    lines = f.readlines()\n",
    "cleaned_rows = []\n",
    "for line in lines:\n",
    "    parts = line.strip().split(\",\")\n",
    "    \n",
    "    # Eğer ilk hücrede fazladan virgül varsa, düzelt\n",
    "    if len(parts) > 12:\n",
    "        cust_id = parts[0]\n",
    "        purchase_channel = parts[1]\n",
    "        recent_channel = parts[2]\n",
    "        rest = parts[3:]\n",
    "        fixed_row = [cust_id, purchase_channel, recent_channel] + rest\n",
    "        cleaned_rows.append(fixed_row[:12])  # Fazla sütun varsa kes\n",
    "    elif len(parts) == 12:\n",
    "        cleaned_rows.append(parts)\n",
    "\n",
    "columns = [\"cust_id\", \"purchase_channel\", \"recent_channel\", \"first_purchase_date\", \"last_purchase_date\",\n",
    "           \"last_online_date\", \"last_offline_date\", \"num_orders_online\", \"num_orders_offline\",\n",
    "           \"spend_offline_total\", \"spend_online_total\", \"categories_last12\"]\n",
    "\n",
    "df = pd.DataFrame(cleaned_rows[1:], columns=columns)  # [1:] başlık satırını atar"
   ]
  },
  {
   "cell_type": "code",
   "execution_count": 46,
   "id": "c627a4ef-b109-41df-bfd1-428a58e3647c",
   "metadata": {},
   "outputs": [
    {
     "data": {
      "application/vnd.microsoft.datawrangler.viewer.v0+json": {
       "columns": [
        {
         "name": "index",
         "rawType": "int64",
         "type": "integer"
        },
        {
         "name": "cust_id",
         "rawType": "object",
         "type": "string"
        },
        {
         "name": "purchase_channel",
         "rawType": "object",
         "type": "string"
        },
        {
         "name": "recent_channel",
         "rawType": "object",
         "type": "string"
        },
        {
         "name": "first_purchase_date",
         "rawType": "object",
         "type": "string"
        },
        {
         "name": "last_purchase_date",
         "rawType": "object",
         "type": "string"
        },
        {
         "name": "last_online_date",
         "rawType": "object",
         "type": "string"
        },
        {
         "name": "last_offline_date",
         "rawType": "object",
         "type": "string"
        },
        {
         "name": "num_orders_online",
         "rawType": "object",
         "type": "string"
        },
        {
         "name": "num_orders_offline",
         "rawType": "object",
         "type": "string"
        },
        {
         "name": "spend_offline_total",
         "rawType": "object",
         "type": "string"
        },
        {
         "name": "spend_online_total",
         "rawType": "object",
         "type": "string"
        },
        {
         "name": "categories_last12",
         "rawType": "object",
         "type": "string"
        }
       ],
       "ref": "28842ba1-2315-4eca-9918-139e76abef43",
       "rows": [
        [
         "0",
         "cc294636-19f0-11eb-8d74-000d3a38a36f",
         "Android App",
         "Offline",
         "2020-10-30",
         "2021-02-26",
         "2021-02-21",
         "2021-02-26",
         "4.0",
         "1.0",
         "139.99",
         "799.38",
         "[KADIN]"
        ],
        [
         "1",
         "\"f431bd5a-ab7b-11e9-a2fc-000d3a38a36f",
         "Android App",
         "Mobile",
         "2017-02-08",
         "2021-02-16",
         "2021-02-16",
         "2020-01-10",
         "19.0",
         "2.0",
         "159.97",
         "1853.58",
         "\"\"[ERKEK"
        ],
        [
         "2",
         "\"69b69676-1a40-11ea-941b-000d3a38a36f",
         "Android App",
         "Android App",
         "2019-11-27",
         "2020-11-27",
         "2020-11-27",
         "2019-12-01",
         "3.0",
         "2.0",
         "189.97",
         "395.35",
         "\"\"[ERKEK"
        ],
        [
         "3",
         "\"1854e56c-491f-11eb-806e-000d3a38a36f",
         "Android App",
         "Android App",
         "2021-01-06",
         "2021-01-17",
         "2021-01-17",
         "2021-01-06",
         "1.0",
         "1.0",
         "39.99",
         "81.98",
         "\"\"[AKTIFCOCUK"
        ],
        [
         "4",
         "d6ea1074-f1f5-11e9-9346-000d3a38a36f",
         "Desktop",
         "Desktop",
         "2019-08-03",
         "2021-03-07",
         "2021-03-07",
         "2019-08-03",
         "1.0",
         "1.0",
         "49.99",
         "159.99",
         "[AKTIFSPOR]"
        ]
       ],
       "shape": {
        "columns": 12,
        "rows": 5
       }
      },
      "text/html": [
       "<div>\n",
       "<style scoped>\n",
       "    .dataframe tbody tr th:only-of-type {\n",
       "        vertical-align: middle;\n",
       "    }\n",
       "\n",
       "    .dataframe tbody tr th {\n",
       "        vertical-align: top;\n",
       "    }\n",
       "\n",
       "    .dataframe thead th {\n",
       "        text-align: right;\n",
       "    }\n",
       "</style>\n",
       "<table border=\"1\" class=\"dataframe\">\n",
       "  <thead>\n",
       "    <tr style=\"text-align: right;\">\n",
       "      <th></th>\n",
       "      <th>cust_id</th>\n",
       "      <th>purchase_channel</th>\n",
       "      <th>recent_channel</th>\n",
       "      <th>first_purchase_date</th>\n",
       "      <th>last_purchase_date</th>\n",
       "      <th>last_online_date</th>\n",
       "      <th>last_offline_date</th>\n",
       "      <th>num_orders_online</th>\n",
       "      <th>num_orders_offline</th>\n",
       "      <th>spend_offline_total</th>\n",
       "      <th>spend_online_total</th>\n",
       "      <th>categories_last12</th>\n",
       "    </tr>\n",
       "  </thead>\n",
       "  <tbody>\n",
       "    <tr>\n",
       "      <th>0</th>\n",
       "      <td>cc294636-19f0-11eb-8d74-000d3a38a36f</td>\n",
       "      <td>Android App</td>\n",
       "      <td>Offline</td>\n",
       "      <td>2020-10-30</td>\n",
       "      <td>2021-02-26</td>\n",
       "      <td>2021-02-21</td>\n",
       "      <td>2021-02-26</td>\n",
       "      <td>4.0</td>\n",
       "      <td>1.0</td>\n",
       "      <td>139.99</td>\n",
       "      <td>799.38</td>\n",
       "      <td>[KADIN]</td>\n",
       "    </tr>\n",
       "    <tr>\n",
       "      <th>1</th>\n",
       "      <td>\"f431bd5a-ab7b-11e9-a2fc-000d3a38a36f</td>\n",
       "      <td>Android App</td>\n",
       "      <td>Mobile</td>\n",
       "      <td>2017-02-08</td>\n",
       "      <td>2021-02-16</td>\n",
       "      <td>2021-02-16</td>\n",
       "      <td>2020-01-10</td>\n",
       "      <td>19.0</td>\n",
       "      <td>2.0</td>\n",
       "      <td>159.97</td>\n",
       "      <td>1853.58</td>\n",
       "      <td>\"\"[ERKEK</td>\n",
       "    </tr>\n",
       "    <tr>\n",
       "      <th>2</th>\n",
       "      <td>\"69b69676-1a40-11ea-941b-000d3a38a36f</td>\n",
       "      <td>Android App</td>\n",
       "      <td>Android App</td>\n",
       "      <td>2019-11-27</td>\n",
       "      <td>2020-11-27</td>\n",
       "      <td>2020-11-27</td>\n",
       "      <td>2019-12-01</td>\n",
       "      <td>3.0</td>\n",
       "      <td>2.0</td>\n",
       "      <td>189.97</td>\n",
       "      <td>395.35</td>\n",
       "      <td>\"\"[ERKEK</td>\n",
       "    </tr>\n",
       "    <tr>\n",
       "      <th>3</th>\n",
       "      <td>\"1854e56c-491f-11eb-806e-000d3a38a36f</td>\n",
       "      <td>Android App</td>\n",
       "      <td>Android App</td>\n",
       "      <td>2021-01-06</td>\n",
       "      <td>2021-01-17</td>\n",
       "      <td>2021-01-17</td>\n",
       "      <td>2021-01-06</td>\n",
       "      <td>1.0</td>\n",
       "      <td>1.0</td>\n",
       "      <td>39.99</td>\n",
       "      <td>81.98</td>\n",
       "      <td>\"\"[AKTIFCOCUK</td>\n",
       "    </tr>\n",
       "    <tr>\n",
       "      <th>4</th>\n",
       "      <td>d6ea1074-f1f5-11e9-9346-000d3a38a36f</td>\n",
       "      <td>Desktop</td>\n",
       "      <td>Desktop</td>\n",
       "      <td>2019-08-03</td>\n",
       "      <td>2021-03-07</td>\n",
       "      <td>2021-03-07</td>\n",
       "      <td>2019-08-03</td>\n",
       "      <td>1.0</td>\n",
       "      <td>1.0</td>\n",
       "      <td>49.99</td>\n",
       "      <td>159.99</td>\n",
       "      <td>[AKTIFSPOR]</td>\n",
       "    </tr>\n",
       "  </tbody>\n",
       "</table>\n",
       "</div>"
      ],
      "text/plain": [
       "                                 cust_id purchase_channel recent_channel first_purchase_date last_purchase_date last_online_date last_offline_date num_orders_online num_orders_offline spend_offline_total spend_online_total categories_last12\n",
       "0   cc294636-19f0-11eb-8d74-000d3a38a36f      Android App        Offline          2020-10-30         2021-02-26       2021-02-21        2021-02-26               4.0                1.0              139.99             799.38           [KADIN]\n",
       "1  \"f431bd5a-ab7b-11e9-a2fc-000d3a38a36f      Android App         Mobile          2017-02-08         2021-02-16       2021-02-16        2020-01-10              19.0                2.0              159.97            1853.58          \"\"[ERKEK\n",
       "2  \"69b69676-1a40-11ea-941b-000d3a38a36f      Android App    Android App          2019-11-27         2020-11-27       2020-11-27        2019-12-01               3.0                2.0              189.97             395.35          \"\"[ERKEK\n",
       "3  \"1854e56c-491f-11eb-806e-000d3a38a36f      Android App    Android App          2021-01-06         2021-01-17       2021-01-17        2021-01-06               1.0                1.0               39.99              81.98     \"\"[AKTIFCOCUK\n",
       "4   d6ea1074-f1f5-11e9-9346-000d3a38a36f          Desktop        Desktop          2019-08-03         2021-03-07       2021-03-07        2019-08-03               1.0                1.0               49.99             159.99       [AKTIFSPOR]"
      ]
     },
     "execution_count": 46,
     "metadata": {},
     "output_type": "execute_result"
    }
   ],
   "source": [
    "df.head()"
   ]
  },
  {
   "cell_type": "code",
   "execution_count": 47,
   "id": "70ce87be-e769-4365-9d04-402739a11f69",
   "metadata": {},
   "outputs": [
    {
     "data": {
      "application/vnd.microsoft.datawrangler.viewer.v0+json": {
       "columns": [
        {
         "name": "index",
         "rawType": "object",
         "type": "string"
        },
        {
         "name": "0",
         "rawType": "int64",
         "type": "integer"
        }
       ],
       "ref": "293da738-3e33-48ee-8f80-ca8380088e25",
       "rows": [
        [
         "cust_id",
         "0"
        ],
        [
         "purchase_channel",
         "0"
        ],
        [
         "recent_channel",
         "0"
        ],
        [
         "first_purchase_date",
         "0"
        ],
        [
         "last_purchase_date",
         "0"
        ],
        [
         "last_online_date",
         "0"
        ],
        [
         "last_offline_date",
         "0"
        ],
        [
         "num_orders_online",
         "0"
        ],
        [
         "num_orders_offline",
         "0"
        ],
        [
         "spend_offline_total",
         "0"
        ],
        [
         "spend_online_total",
         "0"
        ],
        [
         "categories_last12",
         "0"
        ]
       ],
       "shape": {
        "columns": 1,
        "rows": 12
       }
      },
      "text/plain": [
       "cust_id                0\n",
       "purchase_channel       0\n",
       "recent_channel         0\n",
       "first_purchase_date    0\n",
       "last_purchase_date     0\n",
       "last_online_date       0\n",
       "last_offline_date      0\n",
       "num_orders_online      0\n",
       "num_orders_offline     0\n",
       "spend_offline_total    0\n",
       "spend_online_total     0\n",
       "categories_last12      0\n",
       "dtype: int64"
      ]
     },
     "execution_count": 47,
     "metadata": {},
     "output_type": "execute_result"
    }
   ],
   "source": [
    "df.isnull().sum()"
   ]
  },
  {
   "cell_type": "code",
   "execution_count": 48,
   "id": "42ee52df-f10d-4d2e-aef1-15ac2d51c755",
   "metadata": {},
   "outputs": [
    {
     "name": "stdout",
     "output_type": "stream",
     "text": [
      "<class 'pandas.core.frame.DataFrame'>\n",
      "RangeIndex: 19945 entries, 0 to 19944\n",
      "Data columns (total 12 columns):\n",
      " #   Column               Non-Null Count  Dtype \n",
      "---  ------               --------------  ----- \n",
      " 0   cust_id              19945 non-null  object\n",
      " 1   purchase_channel     19945 non-null  object\n",
      " 2   recent_channel       19945 non-null  object\n",
      " 3   first_purchase_date  19945 non-null  object\n",
      " 4   last_purchase_date   19945 non-null  object\n",
      " 5   last_online_date     19945 non-null  object\n",
      " 6   last_offline_date    19945 non-null  object\n",
      " 7   num_orders_online    19945 non-null  object\n",
      " 8   num_orders_offline   19945 non-null  object\n",
      " 9   spend_offline_total  19945 non-null  object\n",
      " 10  spend_online_total   19945 non-null  object\n",
      " 11  categories_last12    19945 non-null  object\n",
      "dtypes: object(12)\n",
      "memory usage: 1.8+ MB\n"
     ]
    }
   ],
   "source": [
    "df.info()\n"
   ]
  },
  {
   "cell_type": "code",
   "execution_count": 49,
   "id": "ab113349-f5c2-4018-bfb7-652694db1fd9",
   "metadata": {},
   "outputs": [
    {
     "data": {
      "text/plain": [
       "(19945, 12)"
      ]
     },
     "execution_count": 49,
     "metadata": {},
     "output_type": "execute_result"
    }
   ],
   "source": [
    "df.shape"
   ]
  },
  {
   "cell_type": "code",
   "execution_count": 50,
   "id": "7c6b73be-14f3-4c70-aa6d-afbffc47fffc",
   "metadata": {},
   "outputs": [],
   "source": [
    "# Umwandlung der Datums-Spalten in das datetime-Format\n",
    "date_cols = ['first_purchase_date', 'last_purchase_date', 'last_online_date', 'last_offline_date']\n",
    "for col in date_cols:\n",
    " df[col] = pd.to_datetime(df[col])"
   ]
  },
  {
   "cell_type": "code",
   "execution_count": 51,
   "id": "7e4b8741-7193-4e81-9514-096fb88ad1c4",
   "metadata": {},
   "outputs": [
    {
     "name": "stdout",
     "output_type": "stream",
     "text": [
      "<class 'pandas.core.frame.DataFrame'>\n",
      "RangeIndex: 19945 entries, 0 to 19944\n",
      "Data columns (total 12 columns):\n",
      " #   Column               Non-Null Count  Dtype         \n",
      "---  ------               --------------  -----         \n",
      " 0   cust_id              19945 non-null  object        \n",
      " 1   purchase_channel     19945 non-null  object        \n",
      " 2   recent_channel       19945 non-null  object        \n",
      " 3   first_purchase_date  19945 non-null  datetime64[ns]\n",
      " 4   last_purchase_date   19945 non-null  datetime64[ns]\n",
      " 5   last_online_date     19945 non-null  datetime64[ns]\n",
      " 6   last_offline_date    19945 non-null  datetime64[ns]\n",
      " 7   num_orders_online    19945 non-null  object        \n",
      " 8   num_orders_offline   19945 non-null  object        \n",
      " 9   spend_offline_total  19945 non-null  object        \n",
      " 10  spend_online_total   19945 non-null  object        \n",
      " 11  categories_last12    19945 non-null  object        \n",
      "dtypes: datetime64[ns](4), object(8)\n",
      "memory usage: 1.8+ MB\n"
     ]
    }
   ],
   "source": [
    "df.info()"
   ]
  },
  {
   "cell_type": "code",
   "execution_count": 52,
   "id": "3591b5a4-8e86-4308-ad46-93a6f4525764",
   "metadata": {},
   "outputs": [
    {
     "name": "stdout",
     "output_type": "stream",
     "text": [
      "num_orders_online      float64\n",
      "num_orders_offline     float64\n",
      "spend_offline_total    float64\n",
      "spend_online_total     float64\n",
      "dtype: object\n"
     ]
    }
   ],
   "source": [
    "#Umwandlung der numerischen Spalten in float\n",
    "numeric_cols = ['num_orders_online', 'num_orders_offline', 'spend_offline_total', 'spend_online_total']\n",
    "\n",
    "for col in numeric_cols:\n",
    "     df[col] = pd.to_numeric( df[col], errors='coerce') \n",
    "\n",
    "print( df[numeric_cols].dtypes)\n"
   ]
  },
  {
   "cell_type": "code",
   "execution_count": 53,
   "id": "32f6926c-6609-468a-8083-a47dc2d7bc07",
   "metadata": {},
   "outputs": [
    {
     "data": {
      "application/vnd.microsoft.datawrangler.viewer.v0+json": {
       "columns": [
        {
         "name": "index",
         "rawType": "int64",
         "type": "integer"
        },
        {
         "name": "cust_id",
         "rawType": "object",
         "type": "string"
        },
        {
         "name": "purchase_channel",
         "rawType": "object",
         "type": "string"
        },
        {
         "name": "recent_channel",
         "rawType": "object",
         "type": "string"
        },
        {
         "name": "first_purchase_date",
         "rawType": "datetime64[ns]",
         "type": "datetime"
        },
        {
         "name": "last_purchase_date",
         "rawType": "datetime64[ns]",
         "type": "datetime"
        },
        {
         "name": "last_online_date",
         "rawType": "datetime64[ns]",
         "type": "datetime"
        },
        {
         "name": "last_offline_date",
         "rawType": "datetime64[ns]",
         "type": "datetime"
        },
        {
         "name": "num_orders_online",
         "rawType": "float64",
         "type": "float"
        },
        {
         "name": "num_orders_offline",
         "rawType": "float64",
         "type": "float"
        },
        {
         "name": "spend_offline_total",
         "rawType": "float64",
         "type": "float"
        },
        {
         "name": "spend_online_total",
         "rawType": "float64",
         "type": "float"
        },
        {
         "name": "categories_last12",
         "rawType": "object",
         "type": "string"
        }
       ],
       "ref": "d9585090-5e85-4de5-9b2e-974a443de04b",
       "rows": [],
       "shape": {
        "columns": 12,
        "rows": 0
       }
      },
      "text/html": [
       "<div>\n",
       "<style scoped>\n",
       "    .dataframe tbody tr th:only-of-type {\n",
       "        vertical-align: middle;\n",
       "    }\n",
       "\n",
       "    .dataframe tbody tr th {\n",
       "        vertical-align: top;\n",
       "    }\n",
       "\n",
       "    .dataframe thead th {\n",
       "        text-align: right;\n",
       "    }\n",
       "</style>\n",
       "<table border=\"1\" class=\"dataframe\">\n",
       "  <thead>\n",
       "    <tr style=\"text-align: right;\">\n",
       "      <th></th>\n",
       "      <th>cust_id</th>\n",
       "      <th>purchase_channel</th>\n",
       "      <th>recent_channel</th>\n",
       "      <th>first_purchase_date</th>\n",
       "      <th>last_purchase_date</th>\n",
       "      <th>last_online_date</th>\n",
       "      <th>last_offline_date</th>\n",
       "      <th>num_orders_online</th>\n",
       "      <th>num_orders_offline</th>\n",
       "      <th>spend_offline_total</th>\n",
       "      <th>spend_online_total</th>\n",
       "      <th>categories_last12</th>\n",
       "    </tr>\n",
       "  </thead>\n",
       "  <tbody>\n",
       "  </tbody>\n",
       "</table>\n",
       "</div>"
      ],
      "text/plain": [
       "Empty DataFrame\n",
       "Columns: [cust_id, purchase_channel, recent_channel, first_purchase_date, last_purchase_date, last_online_date, last_offline_date, num_orders_online, num_orders_offline, spend_offline_total, spend_online_total, categories_last12]\n",
       "Index: []"
      ]
     },
     "execution_count": 53,
     "metadata": {},
     "output_type": "execute_result"
    }
   ],
   "source": [
    "#Überprüfung auf doppelte Zeilen\n",
    "df[df.duplicated()]"
   ]
  },
  {
   "cell_type": "code",
   "execution_count": 54,
   "id": "f141bcd8-0479-403d-8760-e3dea569d7c7",
   "metadata": {},
   "outputs": [
    {
     "data": {
      "application/vnd.microsoft.datawrangler.viewer.v0+json": {
       "columns": [
        {
         "name": "index",
         "rawType": "object",
         "type": "string"
        },
        {
         "name": "count",
         "rawType": "object",
         "type": "unknown"
        },
        {
         "name": "mean",
         "rawType": "object",
         "type": "unknown"
        },
        {
         "name": "min",
         "rawType": "object",
         "type": "unknown"
        },
        {
         "name": "25%",
         "rawType": "object",
         "type": "unknown"
        },
        {
         "name": "50%",
         "rawType": "object",
         "type": "unknown"
        },
        {
         "name": "75%",
         "rawType": "object",
         "type": "unknown"
        },
        {
         "name": "max",
         "rawType": "object",
         "type": "unknown"
        },
        {
         "name": "std",
         "rawType": "object",
         "type": "unknown"
        }
       ],
       "ref": "595b8ffc-dd1c-42ee-9945-321e9f8e75ba",
       "rows": [
        [
         "first_purchase_date",
         "19945",
         "2019-03-22 16:43:55.246929152",
         "2013-01-14 00:00:00",
         "2019-02-16 00:00:00",
         "2019-08-20 00:00:00",
         "2020-01-01 00:00:00",
         "2021-05-27 00:00:00",
         null
        ],
        [
         "last_purchase_date",
         "19945",
         "2021-01-17 12:59:57.653547264",
         "2020-05-30 00:00:00",
         "2020-11-11 00:00:00",
         "2021-02-10 00:00:00",
         "2021-04-19 00:00:00",
         "2021-05-30 00:00:00",
         null
        ],
        [
         "last_online_date",
         "19945",
         "2020-08-10 01:08:52.644773376",
         "2014-02-24 00:00:00",
         "2020-06-18 00:00:00",
         "2020-12-14 00:00:00",
         "2021-04-05 00:00:00",
         "2021-05-30 00:00:00",
         null
        ],
        [
         "last_offline_date",
         "19945",
         "2020-05-17 12:07:24.021058048",
         "2019-01-22 00:00:00",
         "2019-11-04 00:00:00",
         "2020-06-22 00:00:00",
         "2020-12-25 00:00:00",
         "2021-05-28 00:00:00",
         null
        ],
        [
         "num_orders_online",
         "19945.0",
         "3.1108548508398095",
         "1.0",
         "1.0",
         "2.0",
         "4.0",
         "200.0",
         "4.225646939107766"
        ],
        [
         "num_orders_offline",
         "19945.0",
         "1.91391326146904",
         "1.0",
         "1.0",
         "1.0",
         "2.0",
         "109.0",
         "2.0628802153516346"
        ],
        [
         "spend_offline_total",
         "19945.0",
         "253.9225971421409",
         "10.0",
         "99.99",
         "179.98",
         "319.97",
         "18119.14",
         "301.5328529997191"
        ],
        [
         "spend_online_total",
         "19945.0",
         "497.32169014790674",
         "12.99",
         "149.98",
         "286.46",
         "578.44",
         "45220.13",
         "832.6018858243809"
        ]
       ],
       "shape": {
        "columns": 8,
        "rows": 8
       }
      },
      "text/html": [
       "<div>\n",
       "<style scoped>\n",
       "    .dataframe tbody tr th:only-of-type {\n",
       "        vertical-align: middle;\n",
       "    }\n",
       "\n",
       "    .dataframe tbody tr th {\n",
       "        vertical-align: top;\n",
       "    }\n",
       "\n",
       "    .dataframe thead th {\n",
       "        text-align: right;\n",
       "    }\n",
       "</style>\n",
       "<table border=\"1\" class=\"dataframe\">\n",
       "  <thead>\n",
       "    <tr style=\"text-align: right;\">\n",
       "      <th></th>\n",
       "      <th>count</th>\n",
       "      <th>mean</th>\n",
       "      <th>min</th>\n",
       "      <th>25%</th>\n",
       "      <th>50%</th>\n",
       "      <th>75%</th>\n",
       "      <th>max</th>\n",
       "      <th>std</th>\n",
       "    </tr>\n",
       "  </thead>\n",
       "  <tbody>\n",
       "    <tr>\n",
       "      <th>first_purchase_date</th>\n",
       "      <td>19945</td>\n",
       "      <td>2019-03-22 16:43:55.246929152</td>\n",
       "      <td>2013-01-14 00:00:00</td>\n",
       "      <td>2019-02-16 00:00:00</td>\n",
       "      <td>2019-08-20 00:00:00</td>\n",
       "      <td>2020-01-01 00:00:00</td>\n",
       "      <td>2021-05-27 00:00:00</td>\n",
       "      <td>NaN</td>\n",
       "    </tr>\n",
       "    <tr>\n",
       "      <th>last_purchase_date</th>\n",
       "      <td>19945</td>\n",
       "      <td>2021-01-17 12:59:57.653547264</td>\n",
       "      <td>2020-05-30 00:00:00</td>\n",
       "      <td>2020-11-11 00:00:00</td>\n",
       "      <td>2021-02-10 00:00:00</td>\n",
       "      <td>2021-04-19 00:00:00</td>\n",
       "      <td>2021-05-30 00:00:00</td>\n",
       "      <td>NaN</td>\n",
       "    </tr>\n",
       "    <tr>\n",
       "      <th>last_online_date</th>\n",
       "      <td>19945</td>\n",
       "      <td>2020-08-10 01:08:52.644773376</td>\n",
       "      <td>2014-02-24 00:00:00</td>\n",
       "      <td>2020-06-18 00:00:00</td>\n",
       "      <td>2020-12-14 00:00:00</td>\n",
       "      <td>2021-04-05 00:00:00</td>\n",
       "      <td>2021-05-30 00:00:00</td>\n",
       "      <td>NaN</td>\n",
       "    </tr>\n",
       "    <tr>\n",
       "      <th>last_offline_date</th>\n",
       "      <td>19945</td>\n",
       "      <td>2020-05-17 12:07:24.021058048</td>\n",
       "      <td>2019-01-22 00:00:00</td>\n",
       "      <td>2019-11-04 00:00:00</td>\n",
       "      <td>2020-06-22 00:00:00</td>\n",
       "      <td>2020-12-25 00:00:00</td>\n",
       "      <td>2021-05-28 00:00:00</td>\n",
       "      <td>NaN</td>\n",
       "    </tr>\n",
       "    <tr>\n",
       "      <th>num_orders_online</th>\n",
       "      <td>19945.000</td>\n",
       "      <td>3.111</td>\n",
       "      <td>1.000</td>\n",
       "      <td>1.000</td>\n",
       "      <td>2.000</td>\n",
       "      <td>4.000</td>\n",
       "      <td>200.000</td>\n",
       "      <td>4.226</td>\n",
       "    </tr>\n",
       "    <tr>\n",
       "      <th>num_orders_offline</th>\n",
       "      <td>19945.000</td>\n",
       "      <td>1.914</td>\n",
       "      <td>1.000</td>\n",
       "      <td>1.000</td>\n",
       "      <td>1.000</td>\n",
       "      <td>2.000</td>\n",
       "      <td>109.000</td>\n",
       "      <td>2.063</td>\n",
       "    </tr>\n",
       "    <tr>\n",
       "      <th>spend_offline_total</th>\n",
       "      <td>19945.000</td>\n",
       "      <td>253.923</td>\n",
       "      <td>10.000</td>\n",
       "      <td>99.990</td>\n",
       "      <td>179.980</td>\n",
       "      <td>319.970</td>\n",
       "      <td>18119.140</td>\n",
       "      <td>301.533</td>\n",
       "    </tr>\n",
       "    <tr>\n",
       "      <th>spend_online_total</th>\n",
       "      <td>19945.000</td>\n",
       "      <td>497.322</td>\n",
       "      <td>12.990</td>\n",
       "      <td>149.980</td>\n",
       "      <td>286.460</td>\n",
       "      <td>578.440</td>\n",
       "      <td>45220.130</td>\n",
       "      <td>832.602</td>\n",
       "    </tr>\n",
       "  </tbody>\n",
       "</table>\n",
       "</div>"
      ],
      "text/plain": [
       "                        count                           mean                  min                  25%                  50%                  75%                  max     std\n",
       "first_purchase_date     19945  2019-03-22 16:43:55.246929152  2013-01-14 00:00:00  2019-02-16 00:00:00  2019-08-20 00:00:00  2020-01-01 00:00:00  2021-05-27 00:00:00     NaN\n",
       "last_purchase_date      19945  2021-01-17 12:59:57.653547264  2020-05-30 00:00:00  2020-11-11 00:00:00  2021-02-10 00:00:00  2021-04-19 00:00:00  2021-05-30 00:00:00     NaN\n",
       "last_online_date        19945  2020-08-10 01:08:52.644773376  2014-02-24 00:00:00  2020-06-18 00:00:00  2020-12-14 00:00:00  2021-04-05 00:00:00  2021-05-30 00:00:00     NaN\n",
       "last_offline_date       19945  2020-05-17 12:07:24.021058048  2019-01-22 00:00:00  2019-11-04 00:00:00  2020-06-22 00:00:00  2020-12-25 00:00:00  2021-05-28 00:00:00     NaN\n",
       "num_orders_online   19945.000                          3.111                1.000                1.000                2.000                4.000              200.000   4.226\n",
       "num_orders_offline  19945.000                          1.914                1.000                1.000                1.000                2.000              109.000   2.063\n",
       "spend_offline_total 19945.000                        253.923               10.000               99.990              179.980              319.970            18119.140 301.533\n",
       "spend_online_total  19945.000                        497.322               12.990              149.980              286.460              578.440            45220.130 832.602"
      ]
     },
     "execution_count": 54,
     "metadata": {},
     "output_type": "execute_result"
    }
   ],
   "source": [
    "df.describe().T"
   ]
  },
  {
   "cell_type": "code",
   "execution_count": 55,
   "id": "9da8d203-f60f-4be5-996b-9d5c02a918b9",
   "metadata": {},
   "outputs": [
    {
     "name": "stdout",
     "output_type": "stream",
     "text": [
      "Index(['CUST_ID', 'PURCHASE_CHANNEL', 'RECENT_CHANNEL', 'FIRST_PURCHASE_DATE', 'LAST_PURCHASE_DATE', 'LAST_ONLINE_DATE', 'LAST_OFFLINE_DATE', 'NUM_ORDERS_ONLINE', 'NUM_ORDERS_OFFLINE', 'SPEND_OFFLINE_TOTAL', 'SPEND_ONLINE_TOTAL', 'CATEGORIES_LAST12'], dtype='object')\n"
     ]
    }
   ],
   "source": [
    "# Alle Spaltennamen in Großbuchstaben umwandeln\n",
    "df.columns = [col.upper() for col in df.columns]\n",
    "\n",
    "# Kontrolle\n",
    "print(df.columns)"
   ]
  },
  {
   "cell_type": "code",
   "execution_count": 56,
   "id": "8746d982-45d9-4da9-aa69-38173ff25fda",
   "metadata": {},
   "outputs": [],
   "source": [
    "# Analysedatum = Das Datum des letzten Kaufs im Datensatz\n",
    "analysis_date = df['LAST_PURCHASE_DATE'].max()\n",
    "\n",
    "# Recency (Die Zeitspanne seit dem letzten Kauf eines Kunden)\n",
    "df['RECENCY'] = (analysis_date - df['LAST_PURCHASE_DATE']).dt.days"
   ]
  },
  {
   "cell_type": "code",
   "execution_count": 57,
   "id": "c35afaf6-956a-437a-81ee-ea70663936ad",
   "metadata": {},
   "outputs": [],
   "source": [
    "# Tenure (Die Zeitspanne seit dem ersten Kauf eines Kunden)\n",
    "df['TENURE'] = (df['LAST_PURCHASE_DATE'] - df['FIRST_PURCHASE_DATE']).dt.days\n"
   ]
  },
  {
   "cell_type": "code",
   "execution_count": 58,
   "id": "490d97f8-d80c-421b-a6d4-e0258c42495d",
   "metadata": {},
   "outputs": [],
   "source": [
    "#Monetary (Gesamtausgaben eines Kunden (online + offline))\n",
    "df['MONETARY'] = df['SPEND_ONLINE_TOTAL'] + df['SPEND_OFFLINE_TOTAL']"
   ]
  },
  {
   "cell_type": "code",
   "execution_count": 59,
   "id": "ed859442-8f8d-4f56-90ab-d60a972ecd99",
   "metadata": {},
   "outputs": [],
   "source": [
    "#Frequency (Gesamte Anzahl der Einkäufe eines Kunden (online + offline))\n",
    "df['FREQUENCY'] = df['NUM_ORDERS_ONLINE'] + df['NUM_ORDERS_OFFLINE']"
   ]
  },
  {
   "cell_type": "code",
   "execution_count": 60,
   "id": "2998420f-d3d4-4f34-b355-5f204294ad9d",
   "metadata": {},
   "outputs": [
    {
     "name": "stdout",
     "output_type": "stream",
     "text": [
      "Index(['CUST_ID', 'PURCHASE_CHANNEL', 'RECENT_CHANNEL', 'FIRST_PURCHASE_DATE', 'LAST_PURCHASE_DATE', 'LAST_ONLINE_DATE', 'LAST_OFFLINE_DATE', 'NUM_ORDERS_ONLINE', 'NUM_ORDERS_OFFLINE', 'SPEND_OFFLINE_TOTAL', 'SPEND_ONLINE_TOTAL', 'CATEGORIES_LAST12', 'RECENCY', 'TENURE', 'MONETARY', 'FREQUENCY'], dtype='object')\n"
     ]
    }
   ],
   "source": [
    "print(df.columns)"
   ]
  },
  {
   "cell_type": "code",
   "execution_count": 61,
   "id": "04baa2a7-19bb-4e87-9da3-1d99c24a14aa",
   "metadata": {},
   "outputs": [
    {
     "name": "stdout",
     "output_type": "stream",
     "text": [
      "   NUM_ORDERS_ONLINE  NUM_ORDERS_OFFLINE  SPEND_OFFLINE_TOTAL  SPEND_ONLINE_TOTAL  RECENCY  TENURE  MONETARY  FREQUENCY\n",
      "0              0.015               0.000                0.007               0.017    0.255   0.039     0.020      0.015\n",
      "1              0.090               0.009                0.008               0.041    0.282   0.484     0.043      0.095\n",
      "2              0.010               0.009                0.010               0.008    0.504   0.121     0.012      0.015\n",
      "3              0.000               0.000                0.002               0.002    0.364   0.004     0.002      0.000\n",
      "4              0.000               0.000                0.002               0.003    0.230   0.192     0.004      0.000\n"
     ]
    }
   ],
   "source": [
    "#Skalierung der numerischen Spalten\n",
    "\n",
    "# Numerische Spalten im Datensatz\n",
    "numeric_cols = ['NUM_ORDERS_ONLINE', 'NUM_ORDERS_OFFLINE', \n",
    "                'SPEND_OFFLINE_TOTAL', 'SPEND_ONLINE_TOTAL', \n",
    "                'RECENCY', 'TENURE', 'MONETARY', 'FREQUENCY']\n",
    "\n",
    "# MinMaxScaler: Werte auf den Bereich 0-1 skalieren\n",
    "scaler = MinMaxScaler(feature_range=(0,1))\n",
    "df[numeric_cols] = scaler.fit_transform(df[numeric_cols])\n",
    "\n",
    "# Kontrolle: die ersten Zeilen anzeigen\n",
    "print(df[numeric_cols].head())\n"
   ]
  },
  {
   "cell_type": "code",
   "execution_count": 62,
   "id": "3398f400-b875-4abe-a271-0bb4903fca37",
   "metadata": {},
   "outputs": [],
   "source": [
    "#Berechnung der SSD für die Elbow-Methode mit K-Means\n",
    "kmeans = KMeans()\n",
    "ssd = []           # Sum of Squared Distances (Abweichung innerhalb der Cluster)\n",
    "K = range(1, 30)   # Anzahl der Cluster testen\n",
    "\n",
    "for k in K:\n",
    "    kmeans = KMeans(n_clusters=k, random_state=42)\n",
    "    kmeans.fit(df[numeric_cols])  # Nur numerische Spalten verwenden\n",
    "    ssd.append(kmeans.inertia_)   # SSD speichern\n"
   ]
  },
  {
   "cell_type": "code",
   "execution_count": 63,
   "id": "5b97e290-5420-4ff9-bdee-f4242a0d91a9",
   "metadata": {},
   "outputs": [
    {
     "data": {
      "image/png": "[encoded data removed]",
      "text/plain": [
       "<Figure size 800x550 with 1 Axes>"
      ]
     },
     "metadata": {},
     "output_type": "display_data"
    }
   ],
   "source": [
    "# Visualisierung der Elbow-Methode\n",
    "plt.plot(K, ssd, 'bx-')\n",
    "plt.xlabel(\"Verschiedene K-Werte\")\n",
    "plt.ylabel(\"SSE / SSR / SSD\")\n",
    "plt.title(\"Elbow-Methode zur Bestimmung der optimalen Clusteranzahl\")\n",
    "plt.show()"
   ]
  },
  {
   "cell_type": "code",
   "execution_count": 64,
   "id": "a5cad0dc-5400-4c55-83df-448e22fe0dd7",
   "metadata": {},
   "outputs": [
    {
     "data": {
      "image/png": "[encoded data removed]",
      "text/plain": [
       "<Figure size 800x550 with 2 Axes>"
      ]
     },
     "metadata": {},
     "output_type": "display_data"
    },
    {
     "name": "stdout",
     "output_type": "stream",
     "text": [
      "6\n"
     ]
    }
   ],
   "source": [
    "#Elbow-Methode mit K-Means und Bestimmung des optimalen K\n",
    "\n",
    "# KMeans-Modell\n",
    "kmeans = KMeans()\n",
    "\n",
    "# K-Elbow (Testen von K zwischen 2 und 20)\n",
    "elbow = KElbowVisualizer(kmeans, k=(2,20))\n",
    "elbow.fit(df[numeric_cols])  # Nur numerische Spalten verwenden\n",
    "elbow.show()\n",
    "\n",
    "# Optimale Anzahl der Cluster\n",
    "optimal_k = elbow.elbow_value_\n",
    "print(optimal_k)\n"
   ]
  },
  {
   "cell_type": "code",
   "execution_count": 65,
   "id": "94a61bc1-d38c-4977-b76b-848bad3af9d2",
   "metadata": {},
   "outputs": [
    {
     "name": "stdout",
     "output_type": "stream",
     "text": [
      "Anzahl der Cluster: 6\n",
      "Cluster-Zentren:\n",
      " [[0.00662285 0.00709606 0.01221587 0.00832333 0.54885939 0.15021352\n",
      "  0.01254909 0.01042161]\n",
      " [0.01008025 0.00903069 0.01443799 0.0115444  0.08009035 0.18407468\n",
      "  0.01660176 0.01490642]\n",
      " [0.02116187 0.00846217 0.01326524 0.01408219 0.7036516  0.56847883\n",
      "  0.01864032 0.02562563]\n",
      " [0.00726185 0.00885187 0.01366692 0.00855258 0.29866759 0.1655039\n",
      "  0.01334806 0.01200555]\n",
      " [0.03303997 0.01080897 0.01543712 0.0228633  0.18668074 0.60016045\n",
      "  0.02815403 0.03871162]\n",
      " [0.00529557 0.00689956 0.01144024 0.00703036 0.87129793 0.12688293\n",
      "  0.01096826 0.00899486]]\n"
     ]
    },
    {
     "data": {
      "application/vnd.microsoft.datawrangler.viewer.v0+json": {
       "columns": [
        {
         "name": "index",
         "rawType": "int64",
         "type": "integer"
        },
        {
         "name": "CUST_ID",
         "rawType": "object",
         "type": "string"
        },
        {
         "name": "PURCHASE_CHANNEL",
         "rawType": "object",
         "type": "string"
        },
        {
         "name": "RECENT_CHANNEL",
         "rawType": "object",
         "type": "string"
        },
        {
         "name": "FIRST_PURCHASE_DATE",
         "rawType": "datetime64[ns]",
         "type": "datetime"
        },
        {
         "name": "LAST_PURCHASE_DATE",
         "rawType": "datetime64[ns]",
         "type": "datetime"
        },
        {
         "name": "LAST_ONLINE_DATE",
         "rawType": "datetime64[ns]",
         "type": "datetime"
        },
        {
         "name": "LAST_OFFLINE_DATE",
         "rawType": "datetime64[ns]",
         "type": "datetime"
        },
        {
         "name": "NUM_ORDERS_ONLINE",
         "rawType": "float64",
         "type": "float"
        },
        {
         "name": "NUM_ORDERS_OFFLINE",
         "rawType": "float64",
         "type": "float"
        },
        {
         "name": "SPEND_OFFLINE_TOTAL",
         "rawType": "float64",
         "type": "float"
        },
        {
         "name": "SPEND_ONLINE_TOTAL",
         "rawType": "float64",
         "type": "float"
        },
        {
         "name": "CATEGORIES_LAST12",
         "rawType": "object",
         "type": "string"
        },
        {
         "name": "RECENCY",
         "rawType": "float64",
         "type": "float"
        },
        {
         "name": "TENURE",
         "rawType": "float64",
         "type": "float"
        },
        {
         "name": "MONETARY",
         "rawType": "float64",
         "type": "float"
        },
        {
         "name": "FREQUENCY",
         "rawType": "float64",
         "type": "float"
        },
        {
         "name": "kmeans_cluster_no",
         "rawType": "int32",
         "type": "integer"
        }
       ],
       "ref": "4edcb1ba-4f50-406d-8431-4916a8de634b",
       "rows": [
        [
         "0",
         "cc294636-19f0-11eb-8d74-000d3a38a36f",
         "Android App",
         "Offline",
         "2020-10-30 00:00:00",
         "2021-02-26 00:00:00",
         "2021-02-21 00:00:00",
         "2021-02-26 00:00:00",
         "0.01507537688442211",
         "0.0",
         "0.007178143191780504",
         "0.01739526101407875",
         "[KADIN]",
         "0.2547945205479452",
         "0.03922214897824654",
         "0.01950256562782653",
         "0.015000000000000001",
         "4"
        ],
        [
         "1",
         "\"f431bd5a-ab7b-11e9-a2fc-000d3a38a36f",
         "Android App",
         "Mobile",
         "2017-02-08 00:00:00",
         "2021-02-16 00:00:00",
         "2021-02-16 00:00:00",
         "2020-01-10 00:00:00",
         "0.09045226130653267",
         "0.009259259259259259",
         "0.008281453453891238",
         "0.04071458623571409",
         "\"\"[ERKEK",
         "0.2821917808219178",
         "0.48417930125247194",
         "0.042925530940608095",
         "0.095",
         "5"
        ],
        [
         "2",
         "\"69b69676-1a40-11ea-941b-000d3a38a36f",
         "Android App",
         "Android App",
         "2019-11-27 00:00:00",
         "2020-11-27 00:00:00",
         "2020-11-27 00:00:00",
         "2019-12-01 00:00:00",
         "0.010050251256281405",
         "0.009259259259259259",
         "0.009938075469072523",
         "0.008457955977750418",
         "\"\"[ERKEK",
         "0.5041095890410959",
         "0.12063282794990111",
         "0.011782350329654613",
         "0.015000000000000001",
         "1"
        ],
        [
         "3",
         "\"1854e56c-491f-11eb-806e-000d3a38a36f",
         "Android App",
         "Android App",
         "2021-01-06 00:00:00",
         "2021-01-17 00:00:00",
         "2021-01-17 00:00:00",
         "2021-01-06 00:00:00",
         "0.0",
         "0.0",
         "0.0016560698078428907",
         "0.0015260863660032464",
         "\"\"[AKTIFCOCUK",
         "0.3643835616438356",
         "0.0036255767963085032",
         "0.0016788006660252964",
         "0.0",
         "4"
        ],
        [
         "4",
         "d6ea1074-f1f5-11e9-9346-000d3a38a36f",
         "Desktop",
         "Desktop",
         "2019-08-03 00:00:00",
         "2021-03-07 00:00:00",
         "2021-03-07 00:00:00",
         "2019-08-03 00:00:00",
         "0.0",
         "0.0",
         "0.002208277146236652",
         "0.00325169873608461",
         "[AKTIFSPOR]",
         "0.23013698630136986",
         "0.19182597231377718",
         "0.003597897258009792",
         "0.0",
         "4"
        ]
       ],
       "shape": {
        "columns": 17,
        "rows": 5
       }
      },
      "text/html": [
       "<div>\n",
       "<style scoped>\n",
       "    .dataframe tbody tr th:only-of-type {\n",
       "        vertical-align: middle;\n",
       "    }\n",
       "\n",
       "    .dataframe tbody tr th {\n",
       "        vertical-align: top;\n",
       "    }\n",
       "\n",
       "    .dataframe thead th {\n",
       "        text-align: right;\n",
       "    }\n",
       "</style>\n",
       "<table border=\"1\" class=\"dataframe\">\n",
       "  <thead>\n",
       "    <tr style=\"text-align: right;\">\n",
       "      <th></th>\n",
       "      <th>CUST_ID</th>\n",
       "      <th>PURCHASE_CHANNEL</th>\n",
       "      <th>RECENT_CHANNEL</th>\n",
       "      <th>FIRST_PURCHASE_DATE</th>\n",
       "      <th>LAST_PURCHASE_DATE</th>\n",
       "      <th>LAST_ONLINE_DATE</th>\n",
       "      <th>LAST_OFFLINE_DATE</th>\n",
       "      <th>NUM_ORDERS_ONLINE</th>\n",
       "      <th>NUM_ORDERS_OFFLINE</th>\n",
       "      <th>SPEND_OFFLINE_TOTAL</th>\n",
       "      <th>SPEND_ONLINE_TOTAL</th>\n",
       "      <th>CATEGORIES_LAST12</th>\n",
       "      <th>RECENCY</th>\n",
       "      <th>TENURE</th>\n",
       "      <th>MONETARY</th>\n",
       "      <th>FREQUENCY</th>\n",
       "      <th>kmeans_cluster_no</th>\n",
       "    </tr>\n",
       "  </thead>\n",
       "  <tbody>\n",
       "    <tr>\n",
       "      <th>0</th>\n",
       "      <td>cc294636-19f0-11eb-8d74-000d3a38a36f</td>\n",
       "      <td>Android App</td>\n",
       "      <td>Offline</td>\n",
       "      <td>2020-10-30</td>\n",
       "      <td>2021-02-26</td>\n",
       "      <td>2021-02-21</td>\n",
       "      <td>2021-02-26</td>\n",
       "      <td>0.015</td>\n",
       "      <td>0.000</td>\n",
       "      <td>0.007</td>\n",
       "      <td>0.017</td>\n",
       "      <td>[KADIN]</td>\n",
       "      <td>0.255</td>\n",
       "      <td>0.039</td>\n",
       "      <td>0.020</td>\n",
       "      <td>0.015</td>\n",
       "      <td>4</td>\n",
       "    </tr>\n",
       "    <tr>\n",
       "      <th>1</th>\n",
       "      <td>\"f431bd5a-ab7b-11e9-a2fc-000d3a38a36f</td>\n",
       "      <td>Android App</td>\n",
       "      <td>Mobile</td>\n",
       "      <td>2017-02-08</td>\n",
       "      <td>2021-02-16</td>\n",
       "      <td>2021-02-16</td>\n",
       "      <td>2020-01-10</td>\n",
       "      <td>0.090</td>\n",
       "      <td>0.009</td>\n",
       "      <td>0.008</td>\n",
       "      <td>0.041</td>\n",
       "      <td>\"\"[ERKEK</td>\n",
       "      <td>0.282</td>\n",
       "      <td>0.484</td>\n",
       "      <td>0.043</td>\n",
       "      <td>0.095</td>\n",
       "      <td>5</td>\n",
       "    </tr>\n",
       "    <tr>\n",
       "      <th>2</th>\n",
       "      <td>\"69b69676-1a40-11ea-941b-000d3a38a36f</td>\n",
       "      <td>Android App</td>\n",
       "      <td>Android App</td>\n",
       "      <td>2019-11-27</td>\n",
       "      <td>2020-11-27</td>\n",
       "      <td>2020-11-27</td>\n",
       "      <td>2019-12-01</td>\n",
       "      <td>0.010</td>\n",
       "      <td>0.009</td>\n",
       "      <td>0.010</td>\n",
       "      <td>0.008</td>\n",
       "      <td>\"\"[ERKEK</td>\n",
       "      <td>0.504</td>\n",
       "      <td>0.121</td>\n",
       "      <td>0.012</td>\n",
       "      <td>0.015</td>\n",
       "      <td>1</td>\n",
       "    </tr>\n",
       "    <tr>\n",
       "      <th>3</th>\n",
       "      <td>\"1854e56c-491f-11eb-806e-000d3a38a36f</td>\n",
       "      <td>Android App</td>\n",
       "      <td>Android App</td>\n",
       "      <td>2021-01-06</td>\n",
       "      <td>2021-01-17</td>\n",
       "      <td>2021-01-17</td>\n",
       "      <td>2021-01-06</td>\n",
       "      <td>0.000</td>\n",
       "      <td>0.000</td>\n",
       "      <td>0.002</td>\n",
       "      <td>0.002</td>\n",
       "      <td>\"\"[AKTIFCOCUK</td>\n",
       "      <td>0.364</td>\n",
       "      <td>0.004</td>\n",
       "      <td>0.002</td>\n",
       "      <td>0.000</td>\n",
       "      <td>4</td>\n",
       "    </tr>\n",
       "    <tr>\n",
       "      <th>4</th>\n",
       "      <td>d6ea1074-f1f5-11e9-9346-000d3a38a36f</td>\n",
       "      <td>Desktop</td>\n",
       "      <td>Desktop</td>\n",
       "      <td>2019-08-03</td>\n",
       "      <td>2021-03-07</td>\n",
       "      <td>2021-03-07</td>\n",
       "      <td>2019-08-03</td>\n",
       "      <td>0.000</td>\n",
       "      <td>0.000</td>\n",
       "      <td>0.002</td>\n",
       "      <td>0.003</td>\n",
       "      <td>[AKTIFSPOR]</td>\n",
       "      <td>0.230</td>\n",
       "      <td>0.192</td>\n",
       "      <td>0.004</td>\n",
       "      <td>0.000</td>\n",
       "      <td>4</td>\n",
       "    </tr>\n",
       "  </tbody>\n",
       "</table>\n",
       "</div>"
      ],
      "text/plain": [
       "                                 CUST_ID PURCHASE_CHANNEL RECENT_CHANNEL FIRST_PURCHASE_DATE LAST_PURCHASE_DATE LAST_ONLINE_DATE LAST_OFFLINE_DATE  NUM_ORDERS_ONLINE  NUM_ORDERS_OFFLINE  SPEND_OFFLINE_TOTAL  SPEND_ONLINE_TOTAL CATEGORIES_LAST12  RECENCY  TENURE  MONETARY  FREQUENCY  kmeans_cluster_no\n",
       "0   cc294636-19f0-11eb-8d74-000d3a38a36f      Android App        Offline          2020-10-30         2021-02-26       2021-02-21        2021-02-26              0.015               0.000                0.007               0.017           [KADIN]    0.255   0.039     0.020      0.015                  4\n",
       "1  \"f431bd5a-ab7b-11e9-a2fc-000d3a38a36f      Android App         Mobile          2017-02-08         2021-02-16       2021-02-16        2020-01-10              0.090               0.009                0.008               0.041          \"\"[ERKEK    0.282   0.484     0.043      0.095                  5\n",
       "2  \"69b69676-1a40-11ea-941b-000d3a38a36f      Android App    Android App          2019-11-27         2020-11-27       2020-11-27        2019-12-01              0.010               0.009                0.010               0.008          \"\"[ERKEK    0.504   0.121     0.012      0.015                  1\n",
       "3  \"1854e56c-491f-11eb-806e-000d3a38a36f      Android App    Android App          2021-01-06         2021-01-17       2021-01-17        2021-01-06              0.000               0.000                0.002               0.002     \"\"[AKTIFCOCUK    0.364   0.004     0.002      0.000                  4\n",
       "4   d6ea1074-f1f5-11e9-9346-000d3a38a36f          Desktop        Desktop          2019-08-03         2021-03-07       2021-03-07        2019-08-03              0.000               0.000                0.002               0.003       [AKTIFSPOR]    0.230   0.192     0.004      0.000                  4"
      ]
     },
     "execution_count": 65,
     "metadata": {},
     "output_type": "execute_result"
    }
   ],
   "source": [
    "#Clustering mit K-Means und Zuweisung der Segmente\n",
    "\n",
    "# Fit nur auf numerischen und skalierten Spalten\n",
    "kmeans = KMeans(n_clusters=elbow.elbow_value_, random_state=42)\n",
    "kmeans.fit(df[numeric_cols])\n",
    "\n",
    "# Anzahl der Cluster\n",
    "print(\"Anzahl der Cluster:\", kmeans.n_clusters)\n",
    "\n",
    "# Cluster-Zentren\n",
    "print(\"Cluster-Zentren:\\n\", kmeans.cluster_centers_)\n",
    "\n",
    "# Zuweisung jeder Beobachtung zu einem Cluster\n",
    "df[\"kmeans_cluster_no\"] = kmeans.labels_+ 1\n",
    "\n",
    "# Erste 5 Zeilen zur Kontrolle\n",
    "df.head()"
   ]
  },
  {
   "cell_type": "code",
   "execution_count": 66,
   "id": "11bffe89-3e5a-4d2e-a451-fa6b272b000a",
   "metadata": {},
   "outputs": [
    {
     "data": {
      "application/vnd.microsoft.datawrangler.viewer.v0+json": {
       "columns": [
        {
         "name": "kmeans_cluster_no",
         "rawType": "int32",
         "type": "integer"
        },
        {
         "name": "('NUM_ORDERS_ONLINE', 'count')",
         "rawType": "int64",
         "type": "integer"
        },
        {
         "name": "('NUM_ORDERS_ONLINE', 'mean')",
         "rawType": "float64",
         "type": "float"
        },
        {
         "name": "('NUM_ORDERS_ONLINE', 'median')",
         "rawType": "float64",
         "type": "float"
        },
        {
         "name": "('NUM_ORDERS_OFFLINE', 'count')",
         "rawType": "int64",
         "type": "integer"
        },
        {
         "name": "('NUM_ORDERS_OFFLINE', 'mean')",
         "rawType": "float64",
         "type": "float"
        },
        {
         "name": "('NUM_ORDERS_OFFLINE', 'median')",
         "rawType": "float64",
         "type": "float"
        },
        {
         "name": "('SPEND_OFFLINE_TOTAL', 'count')",
         "rawType": "int64",
         "type": "integer"
        },
        {
         "name": "('SPEND_OFFLINE_TOTAL', 'mean')",
         "rawType": "float64",
         "type": "float"
        },
        {
         "name": "('SPEND_OFFLINE_TOTAL', 'median')",
         "rawType": "float64",
         "type": "float"
        },
        {
         "name": "('SPEND_ONLINE_TOTAL', 'count')",
         "rawType": "int64",
         "type": "integer"
        },
        {
         "name": "('SPEND_ONLINE_TOTAL', 'mean')",
         "rawType": "float64",
         "type": "float"
        },
        {
         "name": "('SPEND_ONLINE_TOTAL', 'median')",
         "rawType": "float64",
         "type": "float"
        },
        {
         "name": "('RECENCY', 'count')",
         "rawType": "int64",
         "type": "integer"
        },
        {
         "name": "('RECENCY', 'mean')",
         "rawType": "float64",
         "type": "float"
        },
        {
         "name": "('RECENCY', 'median')",
         "rawType": "float64",
         "type": "float"
        },
        {
         "name": "('TENURE', 'count')",
         "rawType": "int64",
         "type": "integer"
        },
        {
         "name": "('TENURE', 'mean')",
         "rawType": "float64",
         "type": "float"
        },
        {
         "name": "('TENURE', 'median')",
         "rawType": "float64",
         "type": "float"
        },
        {
         "name": "('MONETARY', 'count')",
         "rawType": "int64",
         "type": "integer"
        },
        {
         "name": "('MONETARY', 'mean')",
         "rawType": "float64",
         "type": "float"
        },
        {
         "name": "('MONETARY', 'median')",
         "rawType": "float64",
         "type": "float"
        },
        {
         "name": "('FREQUENCY', 'count')",
         "rawType": "int64",
         "type": "integer"
        },
        {
         "name": "('FREQUENCY', 'mean')",
         "rawType": "float64",
         "type": "float"
        },
        {
         "name": "('FREQUENCY', 'median')",
         "rawType": "float64",
         "type": "float"
        },
        {
         "name": "('kmeans_cluster_no', 'count')",
         "rawType": "int64",
         "type": "integer"
        },
        {
         "name": "('kmeans_cluster_no', 'mean')",
         "rawType": "float64",
         "type": "float"
        },
        {
         "name": "('kmeans_cluster_no', 'median')",
         "rawType": "float64",
         "type": "float"
        }
       ],
       "ref": "e2e9a691-cf73-41be-a76a-f484330f8c46",
       "rows": [
        [
         "1",
         "3880",
         "0.0066246179350360045",
         "0.0",
         "3880",
         "0.0070995609011072925",
         "0.0",
         "3880",
         "0.012213842883850337",
         "0.008585167490007806",
         "3880",
         "0.008321716835907714",
         "0.0053489338188613565",
         "3880",
         "0.5487155768959188",
         "0.536986301369863",
         "3880",
         "0.15033690341082848",
         "0.14172709294660513",
         "3880",
         "0.012546700897487547",
         "0.009509787588868064",
         "3880",
         "0.010425257731958761",
         "0.004999999999999999",
         "3880",
         "1.0",
         "1.0"
        ],
        [
         "2",
         "6187",
         "0.010087612785115167",
         "0.005025125628140704",
         "6187",
         "0.009036270794796736",
         "0.0",
         "6187",
         "0.014444268265877969",
         "0.009938627676410917",
         "6187",
         "0.01155339309364224",
         "0.0070626011731775105",
         "6187",
         "0.07989576022194128",
         "0.07123287671232877",
         "6187",
         "0.18408545615080163",
         "0.18754119973632166",
         "6187",
         "0.016613108192557267",
         "0.0121052888653584",
         "6187",
         "0.014916760950379828",
         "0.01",
         "6187",
         "2.0",
         "2.0"
        ],
        [
         "3",
         "998",
         "0.02117299926486138",
         "0.010050251256281405",
         "998",
         "0.008461367178802049",
         "0.0",
         "998",
         "0.013267465200972496",
         "0.009273770040984827",
         "998",
         "0.014081615185083517",
         "0.00812769841224196",
         "998",
         "0.7036813352732862",
         "0.6904109589041096",
         "998",
         "0.5687059682978348",
         "0.554713249835201",
         "998",
         "0.018640638835391958",
         "0.01353289088646083",
         "998",
         "0.025636272545090183",
         "0.015000000000000001",
         "998",
         "3.0",
         "3.0"
        ],
        [
         "4",
         "4689",
         "0.007260658163926907",
         "0.005025125628140704",
         "4689",
         "0.00884852649621257",
         "0.0",
         "4689",
         "0.013667118317625796",
         "0.009414030704936844",
         "4689",
         "0.008546728835015095",
         "0.005170422194370181",
         "4689",
         "0.2983035200425362",
         "0.29315068493150687",
         "4689",
         "0.16542615833379373",
         "0.16446934739617666",
         "4689",
         "0.01334237516162222",
         "0.010002590486025769",
         "4689",
         "0.01200255918106206",
         "0.01",
         "4689",
         "4.0",
         "4.0"
        ],
        [
         "5",
         "1662",
         "0.03302009445542998",
         "0.020100502512562814",
         "1662",
         "0.010802469135802469",
         "0.009259259259259259",
         "1662",
         "0.015429845561615311",
         "0.010710889639154592",
         "1662",
         "0.02285016751826505",
         "0.01264888687937348",
         "1662",
         "0.18681733511366072",
         "0.18082191780821918",
         "1662",
         "0.600058740610823",
         "0.575148319050758",
         "1662",
         "0.0281382158501838",
         "0.018953395673626673",
         "1662",
         "0.03868832731648616",
         "0.025",
         "1662",
         "5.0",
         "5.0"
        ],
        [
         "6",
         "2529",
         "0.005295357769472113",
         "0.0",
         "2529",
         "0.006894102485245229",
         "0.0",
         "2529",
         "0.011436939337082265",
         "0.007757960897093954",
         "2529",
         "0.007041445359481843",
         "0.004578259098009739",
         "2529",
         "0.8711711272526366",
         "0.8821917808219178",
         "2529",
         "0.1268994886736402",
         "0.1081081081081081",
         "2529",
         "0.010977876677932286",
         "0.008676819860043978",
         "2529",
         "0.008991696322657176",
         "0.004999999999999999",
         "2529",
         "6.0",
         "6.0"
        ]
       ],
       "shape": {
        "columns": 27,
        "rows": 6
       }
      },
      "text/html": [
       "<div>\n",
       "<style scoped>\n",
       "    .dataframe tbody tr th:only-of-type {\n",
       "        vertical-align: middle;\n",
       "    }\n",
       "\n",
       "    .dataframe tbody tr th {\n",
       "        vertical-align: top;\n",
       "    }\n",
       "\n",
       "    .dataframe thead tr th {\n",
       "        text-align: left;\n",
       "    }\n",
       "\n",
       "    .dataframe thead tr:last-of-type th {\n",
       "        text-align: right;\n",
       "    }\n",
       "</style>\n",
       "<table border=\"1\" class=\"dataframe\">\n",
       "  <thead>\n",
       "    <tr>\n",
       "      <th></th>\n",
       "      <th colspan=\"3\" halign=\"left\">NUM_ORDERS_ONLINE</th>\n",
       "      <th colspan=\"3\" halign=\"left\">NUM_ORDERS_OFFLINE</th>\n",
       "      <th colspan=\"3\" halign=\"left\">SPEND_OFFLINE_TOTAL</th>\n",
       "      <th colspan=\"3\" halign=\"left\">SPEND_ONLINE_TOTAL</th>\n",
       "      <th colspan=\"3\" halign=\"left\">RECENCY</th>\n",
       "      <th colspan=\"3\" halign=\"left\">TENURE</th>\n",
       "      <th colspan=\"3\" halign=\"left\">MONETARY</th>\n",
       "      <th colspan=\"3\" halign=\"left\">FREQUENCY</th>\n",
       "      <th colspan=\"3\" halign=\"left\">kmeans_cluster_no</th>\n",
       "    </tr>\n",
       "    <tr>\n",
       "      <th></th>\n",
       "      <th>count</th>\n",
       "      <th>mean</th>\n",
       "      <th>median</th>\n",
       "      <th>count</th>\n",
       "      <th>mean</th>\n",
       "      <th>median</th>\n",
       "      <th>count</th>\n",
       "      <th>mean</th>\n",
       "      <th>median</th>\n",
       "      <th>count</th>\n",
       "      <th>mean</th>\n",
       "      <th>median</th>\n",
       "      <th>count</th>\n",
       "      <th>mean</th>\n",
       "      <th>median</th>\n",
       "      <th>count</th>\n",
       "      <th>mean</th>\n",
       "      <th>median</th>\n",
       "      <th>count</th>\n",
       "      <th>mean</th>\n",
       "      <th>median</th>\n",
       "      <th>count</th>\n",
       "      <th>mean</th>\n",
       "      <th>median</th>\n",
       "      <th>count</th>\n",
       "      <th>mean</th>\n",
       "      <th>median</th>\n",
       "    </tr>\n",
       "    <tr>\n",
       "      <th>kmeans_cluster_no</th>\n",
       "      <th></th>\n",
       "      <th></th>\n",
       "      <th></th>\n",
       "      <th></th>\n",
       "      <th></th>\n",
       "      <th></th>\n",
       "      <th></th>\n",
       "      <th></th>\n",
       "      <th></th>\n",
       "      <th></th>\n",
       "      <th></th>\n",
       "      <th></th>\n",
       "      <th></th>\n",
       "      <th></th>\n",
       "      <th></th>\n",
       "      <th></th>\n",
       "      <th></th>\n",
       "      <th></th>\n",
       "      <th></th>\n",
       "      <th></th>\n",
       "      <th></th>\n",
       "      <th></th>\n",
       "      <th></th>\n",
       "      <th></th>\n",
       "      <th></th>\n",
       "      <th></th>\n",
       "      <th></th>\n",
       "    </tr>\n",
       "  </thead>\n",
       "  <tbody>\n",
       "    <tr>\n",
       "      <th>1</th>\n",
       "      <td>3880</td>\n",
       "      <td>0.007</td>\n",
       "      <td>0.000</td>\n",
       "      <td>3880</td>\n",
       "      <td>0.007</td>\n",
       "      <td>0.000</td>\n",
       "      <td>3880</td>\n",
       "      <td>0.012</td>\n",
       "      <td>0.009</td>\n",
       "      <td>3880</td>\n",
       "      <td>0.008</td>\n",
       "      <td>0.005</td>\n",
       "      <td>3880</td>\n",
       "      <td>0.549</td>\n",
       "      <td>0.537</td>\n",
       "      <td>3880</td>\n",
       "      <td>0.150</td>\n",
       "      <td>0.142</td>\n",
       "      <td>3880</td>\n",
       "      <td>0.013</td>\n",
       "      <td>0.010</td>\n",
       "      <td>3880</td>\n",
       "      <td>0.010</td>\n",
       "      <td>0.005</td>\n",
       "      <td>3880</td>\n",
       "      <td>1.000</td>\n",
       "      <td>1.000</td>\n",
       "    </tr>\n",
       "    <tr>\n",
       "      <th>2</th>\n",
       "      <td>6187</td>\n",
       "      <td>0.010</td>\n",
       "      <td>0.005</td>\n",
       "      <td>6187</td>\n",
       "      <td>0.009</td>\n",
       "      <td>0.000</td>\n",
       "      <td>6187</td>\n",
       "      <td>0.014</td>\n",
       "      <td>0.010</td>\n",
       "      <td>6187</td>\n",
       "      <td>0.012</td>\n",
       "      <td>0.007</td>\n",
       "      <td>6187</td>\n",
       "      <td>0.080</td>\n",
       "      <td>0.071</td>\n",
       "      <td>6187</td>\n",
       "      <td>0.184</td>\n",
       "      <td>0.188</td>\n",
       "      <td>6187</td>\n",
       "      <td>0.017</td>\n",
       "      <td>0.012</td>\n",
       "      <td>6187</td>\n",
       "      <td>0.015</td>\n",
       "      <td>0.010</td>\n",
       "      <td>6187</td>\n",
       "      <td>2.000</td>\n",
       "      <td>2.000</td>\n",
       "    </tr>\n",
       "    <tr>\n",
       "      <th>3</th>\n",
       "      <td>998</td>\n",
       "      <td>0.021</td>\n",
       "      <td>0.010</td>\n",
       "      <td>998</td>\n",
       "      <td>0.008</td>\n",
       "      <td>0.000</td>\n",
       "      <td>998</td>\n",
       "      <td>0.013</td>\n",
       "      <td>0.009</td>\n",
       "      <td>998</td>\n",
       "      <td>0.014</td>\n",
       "      <td>0.008</td>\n",
       "      <td>998</td>\n",
       "      <td>0.704</td>\n",
       "      <td>0.690</td>\n",
       "      <td>998</td>\n",
       "      <td>0.569</td>\n",
       "      <td>0.555</td>\n",
       "      <td>998</td>\n",
       "      <td>0.019</td>\n",
       "      <td>0.014</td>\n",
       "      <td>998</td>\n",
       "      <td>0.026</td>\n",
       "      <td>0.015</td>\n",
       "      <td>998</td>\n",
       "      <td>3.000</td>\n",
       "      <td>3.000</td>\n",
       "    </tr>\n",
       "    <tr>\n",
       "      <th>4</th>\n",
       "      <td>4689</td>\n",
       "      <td>0.007</td>\n",
       "      <td>0.005</td>\n",
       "      <td>4689</td>\n",
       "      <td>0.009</td>\n",
       "      <td>0.000</td>\n",
       "      <td>4689</td>\n",
       "      <td>0.014</td>\n",
       "      <td>0.009</td>\n",
       "      <td>4689</td>\n",
       "      <td>0.009</td>\n",
       "      <td>0.005</td>\n",
       "      <td>4689</td>\n",
       "      <td>0.298</td>\n",
       "      <td>0.293</td>\n",
       "      <td>4689</td>\n",
       "      <td>0.165</td>\n",
       "      <td>0.164</td>\n",
       "      <td>4689</td>\n",
       "      <td>0.013</td>\n",
       "      <td>0.010</td>\n",
       "      <td>4689</td>\n",
       "      <td>0.012</td>\n",
       "      <td>0.010</td>\n",
       "      <td>4689</td>\n",
       "      <td>4.000</td>\n",
       "      <td>4.000</td>\n",
       "    </tr>\n",
       "    <tr>\n",
       "      <th>5</th>\n",
       "      <td>1662</td>\n",
       "      <td>0.033</td>\n",
       "      <td>0.020</td>\n",
       "      <td>1662</td>\n",
       "      <td>0.011</td>\n",
       "      <td>0.009</td>\n",
       "      <td>1662</td>\n",
       "      <td>0.015</td>\n",
       "      <td>0.011</td>\n",
       "      <td>1662</td>\n",
       "      <td>0.023</td>\n",
       "      <td>0.013</td>\n",
       "      <td>1662</td>\n",
       "      <td>0.187</td>\n",
       "      <td>0.181</td>\n",
       "      <td>1662</td>\n",
       "      <td>0.600</td>\n",
       "      <td>0.575</td>\n",
       "      <td>1662</td>\n",
       "      <td>0.028</td>\n",
       "      <td>0.019</td>\n",
       "      <td>1662</td>\n",
       "      <td>0.039</td>\n",
       "      <td>0.025</td>\n",
       "      <td>1662</td>\n",
       "      <td>5.000</td>\n",
       "      <td>5.000</td>\n",
       "    </tr>\n",
       "    <tr>\n",
       "      <th>6</th>\n",
       "      <td>2529</td>\n",
       "      <td>0.005</td>\n",
       "      <td>0.000</td>\n",
       "      <td>2529</td>\n",
       "      <td>0.007</td>\n",
       "      <td>0.000</td>\n",
       "      <td>2529</td>\n",
       "      <td>0.011</td>\n",
       "      <td>0.008</td>\n",
       "      <td>2529</td>\n",
       "      <td>0.007</td>\n",
       "      <td>0.005</td>\n",
       "      <td>2529</td>\n",
       "      <td>0.871</td>\n",
       "      <td>0.882</td>\n",
       "      <td>2529</td>\n",
       "      <td>0.127</td>\n",
       "      <td>0.108</td>\n",
       "      <td>2529</td>\n",
       "      <td>0.011</td>\n",
       "      <td>0.009</td>\n",
       "      <td>2529</td>\n",
       "      <td>0.009</td>\n",
       "      <td>0.005</td>\n",
       "      <td>2529</td>\n",
       "      <td>6.000</td>\n",
       "      <td>6.000</td>\n",
       "    </tr>\n",
       "  </tbody>\n",
       "</table>\n",
       "</div>"
      ],
      "text/plain": [
       "                  NUM_ORDERS_ONLINE              NUM_ORDERS_OFFLINE              SPEND_OFFLINE_TOTAL              SPEND_ONLINE_TOTAL              RECENCY              TENURE              MONETARY              FREQUENCY              kmeans_cluster_no             \n",
       "                              count  mean median              count  mean median               count  mean median              count  mean median   count  mean median  count  mean median    count  mean median     count  mean median             count  mean median\n",
       "kmeans_cluster_no                                                                                                                                                                                                                                                     \n",
       "1                              3880 0.007  0.000               3880 0.007  0.000                3880 0.012  0.009               3880 0.008  0.005    3880 0.549  0.537   3880 0.150  0.142     3880 0.013  0.010      3880 0.010  0.005              3880 1.000  1.000\n",
       "2                              6187 0.010  0.005               6187 0.009  0.000                6187 0.014  0.010               6187 0.012  0.007    6187 0.080  0.071   6187 0.184  0.188     6187 0.017  0.012      6187 0.015  0.010              6187 2.000  2.000\n",
       "3                               998 0.021  0.010                998 0.008  0.000                 998 0.013  0.009                998 0.014  0.008     998 0.704  0.690    998 0.569  0.555      998 0.019  0.014       998 0.026  0.015               998 3.000  3.000\n",
       "4                              4689 0.007  0.005               4689 0.009  0.000                4689 0.014  0.009               4689 0.009  0.005    4689 0.298  0.293   4689 0.165  0.164     4689 0.013  0.010      4689 0.012  0.010              4689 4.000  4.000\n",
       "5                              1662 0.033  0.020               1662 0.011  0.009                1662 0.015  0.011               1662 0.023  0.013    1662 0.187  0.181   1662 0.600  0.575     1662 0.028  0.019      1662 0.039  0.025              1662 5.000  5.000\n",
       "6                              2529 0.005  0.000               2529 0.007  0.000                2529 0.011  0.008               2529 0.007  0.005    2529 0.871  0.882   2529 0.127  0.108     2529 0.011  0.009      2529 0.009  0.005              2529 6.000  6.000"
      ]
     },
     "execution_count": 66,
     "metadata": {},
     "output_type": "execute_result"
    }
   ],
   "source": [
    "# Nur numerische Spalten\n",
    "numeric_cols = df.select_dtypes(include=np.number).columns\n",
    "\n",
    "# Clusterbasierte Zusammenfassung (nur numerische Spalten)\n",
    "df.groupby(\"kmeans_cluster_no\")[numeric_cols].agg([\"count\",\"mean\",\"median\"])\n"
   ]
  },
  {
   "cell_type": "code",
   "execution_count": 67,
   "id": "72ddaa7c-7c42-4d32-9069-22b24a667cb5",
   "metadata": {},
   "outputs": [
    {
     "data": {
      "image/png": "[encoded data removed]",
      "text/plain": [
       "<Figure size 800x550 with 1 Axes>"
      ]
     },
     "metadata": {},
     "output_type": "display_data"
    }
   ],
   "source": [
    "# Anzahl der Kunden pro Cluster\n",
    "df[\"kmeans_cluster_no\"].value_counts()\n",
    "\n",
    "# Visualisierung mit Countplot\n",
    "sns.countplot(x=\"kmeans_cluster_no\", data=df)\n",
    "plt.xlabel(\"Cluster-Nummer\")     \n",
    "plt.ylabel(\"Anzahl der Kunden\")    \n",
    "plt.title(\"Anzahl der Kunden pro Cluster\") \n",
    "plt.show()"
   ]
  },
  {
   "cell_type": "markdown",
   "id": "060c917c",
   "metadata": {},
   "source": [
    "️#Cluster 1 (kmeans_cluster_no = 1)\n",
    "\n",
    "Größe: 3880 Kunden\n",
    "\n",
    "Recency: Mittel (~0,55) → kürzlicher Kauf\n",
    "\n",
    "Frequency: Niedrig (~1) → seltene Einkäufe\n",
    "\n",
    "Monetary: Sehr niedrig (~0,01) → geringe Gesamtausgaben\n",
    "\n",
    " Neue oder selten einkaufende Kunden. Zielgerichtete Marketingaktionen können Aktivität steigern.\n",
    "\n",
    "\n",
    "️#Cluster 2 (kmeans_cluster_no = 2)\n",
    "\n",
    "Größe: 6187 Kunden\n",
    "\n",
    "Recency: Sehr niedrig (~0,08) → Kauf liegt länger zurück\n",
    "\n",
    "Frequency: Niedrig (~2)\n",
    "\n",
    "Monetary: Niedrig (~0,015)\n",
    "\n",
    "Kunden mit wenigen und unregelmäßigen Einkäufen. Anreize können sie zu Wiederkäufen motivieren.\n",
    "\n",
    "\n",
    "️#Cluster 3 (kmeans_cluster_no = 3)\n",
    "\n",
    "Größe: 998 Kunden\n",
    "\n",
    "Recency: Mittel (~0,70) → letzter Kauf vor kurzem\n",
    "\n",
    "Frequency: Mittel (~3)\n",
    "\n",
    "Monetary: Mittel (~0,026)\n",
    "\n",
    "Aktivere und regelmäßig einkaufende Kunden, Treueprogramme können Wert steigern.\n",
    "    \n",
    "\n",
    "️#Cluster 4 (kmeans_cluster_no = 4)\n",
    "\n",
    "Größe: 4689 Kunden\n",
    "\n",
    "Recency: Mittel (~0,30) → letzter Kauf relativ nah\n",
    "\n",
    "Frequency: Niedrig (~1–2)\n",
    "\n",
    "Monetary: Mittel (~0,012)\n",
    "\n",
    "Regelmäßige Käufer mit geringem Umsatz, Upselling-Strategien möglich.\n",
    "\n",
    "\n",
    "️#Cluster 5 (kmeans_cluster_no = 5)\n",
    "\n",
    "Größe: 1662 Kunden\n",
    "\n",
    "Recency: Mittel (~0,60)\n",
    "\n",
    "Frequency: Mittel (~3–4)\n",
    "\n",
    "Monetary: Mittel (~0,039) → höherer Umsatz im Vergleich zu anderen Clustern\n",
    "\n",
    "Treue und wertvolle Kunden, gezielte Premium-Angebote oder Sonderaktionen.\n",
    "\n",
    "\n",
    "️#Cluster 6 (kmeans_cluster_no = 6)\n",
    "\n",
    "Größe: 2529 Kunden\n",
    "\n",
    "Recency: Sehr hoch (~0,87) → lange kein Kauf\n",
    "\n",
    "Frequency: Sehr niedrig (~1)\n",
    "\n",
    "Monetary: Sehr niedrig (~0,009)\n",
    "\n",
    "Ehemalige oder verlorene Kunden, Rückgewinnungskampagnen sinnvoll.\n",
    "\n",
    "\n",
    "\n",
    "Hohe Recency + niedrige Frequency/Monetary: Rückgewinnungskampagnen (Cluster 6)\n",
    "\n",
    "Niedrige Recency + mittlere Frequency/Monetary: Potenziell aktive Kunden (Cluster 3,5)\n",
    "\n",
    "Neue oder inaktive Kunden: Marketingaktionen zur Reaktivierung (Cluster 1,2,4)"
   ]
  },
  {
   "cell_type": "code",
   "execution_count": 68,
   "id": "a797b70e-1472-450d-a333-059bfb3b260d",
   "metadata": {},
   "outputs": [],
   "source": [
    "df.to_excel(\"kmeans_cluster_no.xlsx\")\n"
   ]
  },
  {
   "cell_type": "code",
   "execution_count": 69,
   "id": "cbcd9011-e51c-4df2-bcaf-5dfc0bfbe2a7",
   "metadata": {},
   "outputs": [],
   "source": [
    "#Hierarchisches Clustering (Average Linkage)\n",
    "\n",
    "# Nur numerische Spalten\n",
    "X = df[numeric_cols]\n",
    "\n",
    "# Standardisierung (Mittelwert = 0, Standardabweichung = 1)\n",
    "scaler = StandardScaler()\n",
    "X_scaled = scaler.fit_transform(X)\n",
    "\n",
    "# Hierarchisches Clustering (Average Linkage)\n",
    "hc_average = linkage(X_scaled, method=\"average\")\n",
    "\n",
    "X = df[numeric_cols]\n"
   ]
  },
  {
   "cell_type": "code",
   "execution_count": 70,
   "id": "a4b4557a-0227-4f03-a6c9-5d4e93008247",
   "metadata": {},
   "outputs": [
    {
     "data": {
      "image/png": "[encoded data removed]",
      "text/plain": [
       "<Figure size 700x500 with 1 Axes>"
      ]
     },
     "metadata": {},
     "output_type": "display_data"
    }
   ],
   "source": [
    "#Hierarchisches Dendrogramm (Truncated)\n",
    "\n",
    "plt.figure(figsize=(7, 5))\n",
    "plt.title(\"Hierarchisches Dendrogramm (Truncated)\")\n",
    "plt.xlabel(\"Beobachtungseinheiten\")\n",
    "plt.ylabel(\"Abstände\")\n",
    "dendrogram(\n",
    "    hc_average,\n",
    "    truncate_mode=\"lastp\",  # nur die letzten p Verschmelzungen anzeigen\n",
    "    p=10,                   # die größten 10 Verschmelzungen zeigen\n",
    "    show_contracted=True,   # Informationen zu verschmolzenen Clustern\n",
    "    leaf_font_size=10\n",
    ")\n",
    "plt.show()\n",
    "\n"
   ]
  },
  {
   "cell_type": "code",
   "execution_count": 71,
   "id": "c8723504-610a-42e3-b2f8-377c1e60b8d5",
   "metadata": {
    "scrolled": true
   },
   "outputs": [
    {
     "name": "stdout",
     "output_type": "stream",
     "text": [
      "Geschätzte Clusteranzahl für Schwellenwert 25: 7\n",
      "Geschätzte Clusteranzahl für Schwellenwert 30: 6\n"
     ]
    },
    {
     "data": {
      "image/png": "[encoded data removed]",
      "text/plain": [
       "<Figure size 1000x500 with 1 Axes>"
      ]
     },
     "metadata": {},
     "output_type": "display_data"
    }
   ],
   "source": [
    "#Truncated Dendrogramm und geschätzte Clusteranzahl anhand von Schwellenwerten\n",
    "from scipy.cluster.hierarchy import fcluster, dendrogram\n",
    "import matplotlib.pyplot as plt\n",
    "\n",
    "# Truncated Dendrogramm\n",
    "plt.figure(figsize=(10, 5))\n",
    "plt.title(\"Truncated Dendrogramm\")\n",
    "dend = dendrogram(\n",
    "    hc_average,\n",
    "    truncate_mode='lastp',\n",
    "    p=20,\n",
    "    show_contracted=True,\n",
    "    leaf_font_size=10\n",
    ")\n",
    "\n",
    "# Schwellenwerte für die Clusterbestimmung\n",
    "thresholds = [25, 30]\n",
    "\n",
    "for y in thresholds:\n",
    "    plt.axhline(y=y, color='r', linestyle='--')\n",
    "    \n",
    "    # Anzahl der Cluster basierend auf dem Schwellenwert\n",
    "    clusters = fcluster(hc_average, t=y, criterion='distance')\n",
    "    print(f\"Geschätzte Clusteranzahl für Schwellenwert {y}: {len(set(clusters))}\")\n",
    "\n",
    "plt.show()\n"
   ]
  },
  {
   "cell_type": "code",
   "execution_count": 72,
   "id": "9b207cbf-2bf6-4347-b2b8-55edd7faec50",
   "metadata": {},
   "outputs": [
    {
     "data": {
      "application/vnd.microsoft.datawrangler.viewer.v0+json": {
       "columns": [
        {
         "name": "index",
         "rawType": "int64",
         "type": "integer"
        },
        {
         "name": "CUST_ID",
         "rawType": "object",
         "type": "string"
        },
        {
         "name": "PURCHASE_CHANNEL",
         "rawType": "object",
         "type": "string"
        },
        {
         "name": "RECENT_CHANNEL",
         "rawType": "object",
         "type": "string"
        },
        {
         "name": "FIRST_PURCHASE_DATE",
         "rawType": "datetime64[ns]",
         "type": "datetime"
        },
        {
         "name": "LAST_PURCHASE_DATE",
         "rawType": "datetime64[ns]",
         "type": "datetime"
        },
        {
         "name": "LAST_ONLINE_DATE",
         "rawType": "datetime64[ns]",
         "type": "datetime"
        },
        {
         "name": "LAST_OFFLINE_DATE",
         "rawType": "datetime64[ns]",
         "type": "datetime"
        },
        {
         "name": "NUM_ORDERS_ONLINE",
         "rawType": "float64",
         "type": "float"
        },
        {
         "name": "NUM_ORDERS_OFFLINE",
         "rawType": "float64",
         "type": "float"
        },
        {
         "name": "SPEND_OFFLINE_TOTAL",
         "rawType": "float64",
         "type": "float"
        },
        {
         "name": "SPEND_ONLINE_TOTAL",
         "rawType": "float64",
         "type": "float"
        },
        {
         "name": "CATEGORIES_LAST12",
         "rawType": "object",
         "type": "string"
        },
        {
         "name": "RECENCY",
         "rawType": "float64",
         "type": "float"
        },
        {
         "name": "TENURE",
         "rawType": "float64",
         "type": "float"
        },
        {
         "name": "MONETARY",
         "rawType": "float64",
         "type": "float"
        },
        {
         "name": "FREQUENCY",
         "rawType": "float64",
         "type": "float"
        },
        {
         "name": "kmeans_cluster_no",
         "rawType": "int32",
         "type": "integer"
        },
        {
         "name": "hi_cluster_no",
         "rawType": "int64",
         "type": "integer"
        }
       ],
       "ref": "a8b4a009-ff8c-4849-8bd4-28925d42a311",
       "rows": [
        [
         "0",
         "cc294636-19f0-11eb-8d74-000d3a38a36f",
         "Android App",
         "Offline",
         "2020-10-30 00:00:00",
         "2021-02-26 00:00:00",
         "2021-02-21 00:00:00",
         "2021-02-26 00:00:00",
         "0.01507537688442211",
         "0.0",
         "0.007178143191780504",
         "0.01739526101407875",
         "[KADIN]",
         "0.2547945205479452",
         "0.03922214897824654",
         "0.01950256562782653",
         "0.015000000000000001",
         "4",
         "1"
        ],
        [
         "1",
         "\"f431bd5a-ab7b-11e9-a2fc-000d3a38a36f",
         "Android App",
         "Mobile",
         "2017-02-08 00:00:00",
         "2021-02-16 00:00:00",
         "2021-02-16 00:00:00",
         "2020-01-10 00:00:00",
         "0.09045226130653267",
         "0.009259259259259259",
         "0.008281453453891238",
         "0.04071458623571409",
         "\"\"[ERKEK",
         "0.2821917808219178",
         "0.48417930125247194",
         "0.042925530940608095",
         "0.095",
         "5",
         "1"
        ],
        [
         "2",
         "\"69b69676-1a40-11ea-941b-000d3a38a36f",
         "Android App",
         "Android App",
         "2019-11-27 00:00:00",
         "2020-11-27 00:00:00",
         "2020-11-27 00:00:00",
         "2019-12-01 00:00:00",
         "0.010050251256281405",
         "0.009259259259259259",
         "0.009938075469072523",
         "0.008457955977750418",
         "\"\"[ERKEK",
         "0.5041095890410959",
         "0.12063282794990111",
         "0.011782350329654613",
         "0.015000000000000001",
         "1",
         "2"
        ],
        [
         "3",
         "\"1854e56c-491f-11eb-806e-000d3a38a36f",
         "Android App",
         "Android App",
         "2021-01-06 00:00:00",
         "2021-01-17 00:00:00",
         "2021-01-17 00:00:00",
         "2021-01-06 00:00:00",
         "0.0",
         "0.0",
         "0.0016560698078428907",
         "0.0015260863660032464",
         "\"\"[AKTIFCOCUK",
         "0.3643835616438356",
         "0.0036255767963085032",
         "0.0016788006660252964",
         "0.0",
         "4",
         "1"
        ],
        [
         "4",
         "d6ea1074-f1f5-11e9-9346-000d3a38a36f",
         "Desktop",
         "Desktop",
         "2019-08-03 00:00:00",
         "2021-03-07 00:00:00",
         "2021-03-07 00:00:00",
         "2019-08-03 00:00:00",
         "0.0",
         "0.0",
         "0.002208277146236652",
         "0.00325169873608461",
         "[AKTIFSPOR]",
         "0.23013698630136986",
         "0.19182597231377718",
         "0.003597897258009792",
         "0.0",
         "4",
         "1"
        ]
       ],
       "shape": {
        "columns": 18,
        "rows": 5
       }
      },
      "text/html": [
       "<div>\n",
       "<style scoped>\n",
       "    .dataframe tbody tr th:only-of-type {\n",
       "        vertical-align: middle;\n",
       "    }\n",
       "\n",
       "    .dataframe tbody tr th {\n",
       "        vertical-align: top;\n",
       "    }\n",
       "\n",
       "    .dataframe thead th {\n",
       "        text-align: right;\n",
       "    }\n",
       "</style>\n",
       "<table border=\"1\" class=\"dataframe\">\n",
       "  <thead>\n",
       "    <tr style=\"text-align: right;\">\n",
       "      <th></th>\n",
       "      <th>CUST_ID</th>\n",
       "      <th>PURCHASE_CHANNEL</th>\n",
       "      <th>RECENT_CHANNEL</th>\n",
       "      <th>FIRST_PURCHASE_DATE</th>\n",
       "      <th>LAST_PURCHASE_DATE</th>\n",
       "      <th>LAST_ONLINE_DATE</th>\n",
       "      <th>LAST_OFFLINE_DATE</th>\n",
       "      <th>NUM_ORDERS_ONLINE</th>\n",
       "      <th>NUM_ORDERS_OFFLINE</th>\n",
       "      <th>SPEND_OFFLINE_TOTAL</th>\n",
       "      <th>SPEND_ONLINE_TOTAL</th>\n",
       "      <th>CATEGORIES_LAST12</th>\n",
       "      <th>RECENCY</th>\n",
       "      <th>TENURE</th>\n",
       "      <th>MONETARY</th>\n",
       "      <th>FREQUENCY</th>\n",
       "      <th>kmeans_cluster_no</th>\n",
       "      <th>hi_cluster_no</th>\n",
       "    </tr>\n",
       "  </thead>\n",
       "  <tbody>\n",
       "    <tr>\n",
       "      <th>0</th>\n",
       "      <td>cc294636-19f0-11eb-8d74-000d3a38a36f</td>\n",
       "      <td>Android App</td>\n",
       "      <td>Offline</td>\n",
       "      <td>2020-10-30</td>\n",
       "      <td>2021-02-26</td>\n",
       "      <td>2021-02-21</td>\n",
       "      <td>2021-02-26</td>\n",
       "      <td>0.015</td>\n",
       "      <td>0.000</td>\n",
       "      <td>0.007</td>\n",
       "      <td>0.017</td>\n",
       "      <td>[KADIN]</td>\n",
       "      <td>0.255</td>\n",
       "      <td>0.039</td>\n",
       "      <td>0.020</td>\n",
       "      <td>0.015</td>\n",
       "      <td>4</td>\n",
       "      <td>1</td>\n",
       "    </tr>\n",
       "    <tr>\n",
       "      <th>1</th>\n",
       "      <td>\"f431bd5a-ab7b-11e9-a2fc-000d3a38a36f</td>\n",
       "      <td>Android App</td>\n",
       "      <td>Mobile</td>\n",
       "      <td>2017-02-08</td>\n",
       "      <td>2021-02-16</td>\n",
       "      <td>2021-02-16</td>\n",
       "      <td>2020-01-10</td>\n",
       "      <td>0.090</td>\n",
       "      <td>0.009</td>\n",
       "      <td>0.008</td>\n",
       "      <td>0.041</td>\n",
       "      <td>\"\"[ERKEK</td>\n",
       "      <td>0.282</td>\n",
       "      <td>0.484</td>\n",
       "      <td>0.043</td>\n",
       "      <td>0.095</td>\n",
       "      <td>5</td>\n",
       "      <td>1</td>\n",
       "    </tr>\n",
       "    <tr>\n",
       "      <th>2</th>\n",
       "      <td>\"69b69676-1a40-11ea-941b-000d3a38a36f</td>\n",
       "      <td>Android App</td>\n",
       "      <td>Android App</td>\n",
       "      <td>2019-11-27</td>\n",
       "      <td>2020-11-27</td>\n",
       "      <td>2020-11-27</td>\n",
       "      <td>2019-12-01</td>\n",
       "      <td>0.010</td>\n",
       "      <td>0.009</td>\n",
       "      <td>0.010</td>\n",
       "      <td>0.008</td>\n",
       "      <td>\"\"[ERKEK</td>\n",
       "      <td>0.504</td>\n",
       "      <td>0.121</td>\n",
       "      <td>0.012</td>\n",
       "      <td>0.015</td>\n",
       "      <td>1</td>\n",
       "      <td>2</td>\n",
       "    </tr>\n",
       "    <tr>\n",
       "      <th>3</th>\n",
       "      <td>\"1854e56c-491f-11eb-806e-000d3a38a36f</td>\n",
       "      <td>Android App</td>\n",
       "      <td>Android App</td>\n",
       "      <td>2021-01-06</td>\n",
       "      <td>2021-01-17</td>\n",
       "      <td>2021-01-17</td>\n",
       "      <td>2021-01-06</td>\n",
       "      <td>0.000</td>\n",
       "      <td>0.000</td>\n",
       "      <td>0.002</td>\n",
       "      <td>0.002</td>\n",
       "      <td>\"\"[AKTIFCOCUK</td>\n",
       "      <td>0.364</td>\n",
       "      <td>0.004</td>\n",
       "      <td>0.002</td>\n",
       "      <td>0.000</td>\n",
       "      <td>4</td>\n",
       "      <td>1</td>\n",
       "    </tr>\n",
       "    <tr>\n",
       "      <th>4</th>\n",
       "      <td>d6ea1074-f1f5-11e9-9346-000d3a38a36f</td>\n",
       "      <td>Desktop</td>\n",
       "      <td>Desktop</td>\n",
       "      <td>2019-08-03</td>\n",
       "      <td>2021-03-07</td>\n",
       "      <td>2021-03-07</td>\n",
       "      <td>2019-08-03</td>\n",
       "      <td>0.000</td>\n",
       "      <td>0.000</td>\n",
       "      <td>0.002</td>\n",
       "      <td>0.003</td>\n",
       "      <td>[AKTIFSPOR]</td>\n",
       "      <td>0.230</td>\n",
       "      <td>0.192</td>\n",
       "      <td>0.004</td>\n",
       "      <td>0.000</td>\n",
       "      <td>4</td>\n",
       "      <td>1</td>\n",
       "    </tr>\n",
       "  </tbody>\n",
       "</table>\n",
       "</div>"
      ],
      "text/plain": [
       "                                 CUST_ID PURCHASE_CHANNEL RECENT_CHANNEL FIRST_PURCHASE_DATE LAST_PURCHASE_DATE LAST_ONLINE_DATE LAST_OFFLINE_DATE  NUM_ORDERS_ONLINE  NUM_ORDERS_OFFLINE  SPEND_OFFLINE_TOTAL  SPEND_ONLINE_TOTAL CATEGORIES_LAST12  RECENCY  TENURE  MONETARY  FREQUENCY  kmeans_cluster_no  hi_cluster_no\n",
       "0   cc294636-19f0-11eb-8d74-000d3a38a36f      Android App        Offline          2020-10-30         2021-02-26       2021-02-21        2021-02-26              0.015               0.000                0.007               0.017           [KADIN]    0.255   0.039     0.020      0.015                  4              1\n",
       "1  \"f431bd5a-ab7b-11e9-a2fc-000d3a38a36f      Android App         Mobile          2017-02-08         2021-02-16       2021-02-16        2020-01-10              0.090               0.009                0.008               0.041          \"\"[ERKEK    0.282   0.484     0.043      0.095                  5              1\n",
       "2  \"69b69676-1a40-11ea-941b-000d3a38a36f      Android App    Android App          2019-11-27         2020-11-27       2020-11-27        2019-12-01              0.010               0.009                0.010               0.008          \"\"[ERKEK    0.504   0.121     0.012      0.015                  1              2\n",
       "3  \"1854e56c-491f-11eb-806e-000d3a38a36f      Android App    Android App          2021-01-06         2021-01-17       2021-01-17        2021-01-06              0.000               0.000                0.002               0.002     \"\"[AKTIFCOCUK    0.364   0.004     0.002      0.000                  4              1\n",
       "4   d6ea1074-f1f5-11e9-9346-000d3a38a36f          Desktop        Desktop          2019-08-03         2021-03-07       2021-03-07        2019-08-03              0.000               0.000                0.002               0.003       [AKTIFSPOR]    0.230   0.192     0.004      0.000                  4              1"
      ]
     },
     "execution_count": 72,
     "metadata": {},
     "output_type": "execute_result"
    }
   ],
   "source": [
    "#Zuweisung der Cluster mit hierarchischem Clustering\n",
    "\n",
    "# Hierarchisches Clustering\n",
    "hc_cluster = AgglomerativeClustering(n_clusters=6, linkage=\"average\")\n",
    "\n",
    "# Vorhersage basierend auf den standardisierten numerischen Spalten\n",
    "clusters_hc = hc_cluster.fit_predict(df[numeric_cols])\n",
    "\n",
    "# Cluster-Nummern ab 1 starten\n",
    "df[\"hi_cluster_no\"] = clusters_hc + 1\n",
    "\n",
    "# Erste 5 Zeilen anzeigen\n",
    "df.head()\n"
   ]
  },
  {
   "cell_type": "code",
   "execution_count": 73,
   "id": "e305556f-8d64-4e0d-bee3-77211de1c76b",
   "metadata": {},
   "outputs": [
    {
     "data": {
      "application/vnd.microsoft.datawrangler.viewer.v0+json": {
       "columns": [
        {
         "name": "hi_cluster_no",
         "rawType": "int64",
         "type": "integer"
        },
        {
         "name": "('NUM_ORDERS_ONLINE', 'count')",
         "rawType": "int64",
         "type": "integer"
        },
        {
         "name": "('NUM_ORDERS_ONLINE', 'mean')",
         "rawType": "float64",
         "type": "float"
        },
        {
         "name": "('NUM_ORDERS_ONLINE', 'median')",
         "rawType": "float64",
         "type": "float"
        },
        {
         "name": "('NUM_ORDERS_OFFLINE', 'count')",
         "rawType": "int64",
         "type": "integer"
        },
        {
         "name": "('NUM_ORDERS_OFFLINE', 'mean')",
         "rawType": "float64",
         "type": "float"
        },
        {
         "name": "('NUM_ORDERS_OFFLINE', 'median')",
         "rawType": "float64",
         "type": "float"
        },
        {
         "name": "('SPEND_OFFLINE_TOTAL', 'count')",
         "rawType": "int64",
         "type": "integer"
        },
        {
         "name": "('SPEND_OFFLINE_TOTAL', 'mean')",
         "rawType": "float64",
         "type": "float"
        },
        {
         "name": "('SPEND_OFFLINE_TOTAL', 'median')",
         "rawType": "float64",
         "type": "float"
        },
        {
         "name": "('SPEND_ONLINE_TOTAL', 'count')",
         "rawType": "int64",
         "type": "integer"
        },
        {
         "name": "('SPEND_ONLINE_TOTAL', 'mean')",
         "rawType": "float64",
         "type": "float"
        },
        {
         "name": "('SPEND_ONLINE_TOTAL', 'median')",
         "rawType": "float64",
         "type": "float"
        },
        {
         "name": "('RECENCY', 'count')",
         "rawType": "int64",
         "type": "integer"
        },
        {
         "name": "('RECENCY', 'mean')",
         "rawType": "float64",
         "type": "float"
        },
        {
         "name": "('RECENCY', 'median')",
         "rawType": "float64",
         "type": "float"
        },
        {
         "name": "('TENURE', 'count')",
         "rawType": "int64",
         "type": "integer"
        },
        {
         "name": "('TENURE', 'mean')",
         "rawType": "float64",
         "type": "float"
        },
        {
         "name": "('TENURE', 'median')",
         "rawType": "float64",
         "type": "float"
        },
        {
         "name": "('MONETARY', 'count')",
         "rawType": "int64",
         "type": "integer"
        },
        {
         "name": "('MONETARY', 'mean')",
         "rawType": "float64",
         "type": "float"
        },
        {
         "name": "('MONETARY', 'median')",
         "rawType": "float64",
         "type": "float"
        },
        {
         "name": "('FREQUENCY', 'count')",
         "rawType": "int64",
         "type": "integer"
        },
        {
         "name": "('FREQUENCY', 'mean')",
         "rawType": "float64",
         "type": "float"
        },
        {
         "name": "('FREQUENCY', 'median')",
         "rawType": "float64",
         "type": "float"
        }
       ],
       "ref": "365a3a78-89b6-452e-af3c-99a7498415be",
       "rows": [
        [
         "1",
         "6347",
         "0.013635215624364141",
         "0.005025125628140704",
         "6347",
         "0.009364295759443073",
         "0.0",
         "6347",
         "0.014119135560959105",
         "0.009938075469072523",
         "6347",
         "0.011855836435107259",
         "0.006163628134847725",
         "6347",
         "0.2692295572711517",
         "0.27945205479452057",
         "6347",
         "0.27885497890147676",
         "0.19413315754779167",
         "6347",
         "0.016782857526133423",
         "0.011630366427301107",
         "6347",
         "0.01862375925634158",
         "0.01"
        ],
        [
         "2",
         "10066",
         "0.008753283604591605",
         "0.005025125628140704",
         "10066",
         "0.008191307739291049",
         "0.0",
         "10066",
         "0.013529854943606772",
         "0.009386420338017155",
         "10066",
         "0.010308584029658993",
         "0.006325881265658478",
         "10066",
         "0.2605567637156412",
         "0.136986301369863",
         "10066",
         "0.1710802637988092",
         "0.17270929466051416",
         "10066",
         "0.015024941905603943",
         "0.011050341778434074",
         "10066",
         "0.013132823365785813",
         "0.01"
        ],
        [
         "3",
         "2529",
         "0.005295357769472113",
         "0.0",
         "2529",
         "0.006894102485245229",
         "0.0",
         "2529",
         "0.011436939337082265",
         "0.007757960897093954",
         "2529",
         "0.007041445359481843",
         "0.004578259098009739",
         "2529",
         "0.8711711272526366",
         "0.8821917808219178",
         "2529",
         "0.1268994886736402",
         "0.1081081081081081",
         "2529",
         "0.010977876677932286",
         "0.008676819860043978",
         "2529",
         "0.008991696322657176",
         "0.004999999999999999"
        ],
        [
         "4",
         "4",
         "0.5954773869346733",
         "0.5251256281407035",
         "4",
         "0.0023148148148148147",
         "0.0",
         "4",
         "0.028841927336140757",
         "0.02196294246993507",
         "4",
         "0.700899017279129",
         "0.7666505777627163",
         "4",
         "0.1089041095890411",
         "0.06986301369863013",
         "4",
         "0.7720830586684244",
         "0.896341463414634",
         "4",
         "0.7018287893708084",
         "0.7702381720763051",
         "4",
         "0.59375",
         "0.5225"
        ],
        [
         "5",
         "1",
         "0.005025125628140704",
         "0.005025125628140704",
         "1",
         "1.0",
         "1.0",
         "1",
         "0.5648782879805445",
         "0.5648782879805445",
         "1",
         "0.0028975511390457345",
         "0.0028975511390457345",
         "1",
         "0.5671232876712329",
         "0.5671232876712329",
         "1",
         "0.14996704021094265",
         "0.14996704021094265",
         "1",
         "0.2254346477942055",
         "0.2254346477942055",
         "1",
         "0.545",
         "0.545"
        ],
        [
         "6",
         "998",
         "0.02117299926486138",
         "0.010050251256281405",
         "998",
         "0.008461367178802049",
         "0.0",
         "998",
         "0.013267465200972496",
         "0.009273770040984827",
         "998",
         "0.014081615185083517",
         "0.00812769841224196",
         "998",
         "0.7036813352732862",
         "0.6904109589041096",
         "998",
         "0.5687059682978348",
         "0.554713249835201",
         "998",
         "0.018640638835391958",
         "0.01353289088646083",
         "998",
         "0.025636272545090183",
         "0.015000000000000001"
        ]
       ],
       "shape": {
        "columns": 24,
        "rows": 6
       }
      },
      "text/html": [
       "<div>\n",
       "<style scoped>\n",
       "    .dataframe tbody tr th:only-of-type {\n",
       "        vertical-align: middle;\n",
       "    }\n",
       "\n",
       "    .dataframe tbody tr th {\n",
       "        vertical-align: top;\n",
       "    }\n",
       "\n",
       "    .dataframe thead tr th {\n",
       "        text-align: left;\n",
       "    }\n",
       "\n",
       "    .dataframe thead tr:last-of-type th {\n",
       "        text-align: right;\n",
       "    }\n",
       "</style>\n",
       "<table border=\"1\" class=\"dataframe\">\n",
       "  <thead>\n",
       "    <tr>\n",
       "      <th></th>\n",
       "      <th colspan=\"3\" halign=\"left\">NUM_ORDERS_ONLINE</th>\n",
       "      <th colspan=\"3\" halign=\"left\">NUM_ORDERS_OFFLINE</th>\n",
       "      <th colspan=\"3\" halign=\"left\">SPEND_OFFLINE_TOTAL</th>\n",
       "      <th colspan=\"3\" halign=\"left\">SPEND_ONLINE_TOTAL</th>\n",
       "      <th colspan=\"3\" halign=\"left\">RECENCY</th>\n",
       "      <th colspan=\"3\" halign=\"left\">TENURE</th>\n",
       "      <th colspan=\"3\" halign=\"left\">MONETARY</th>\n",
       "      <th colspan=\"3\" halign=\"left\">FREQUENCY</th>\n",
       "    </tr>\n",
       "    <tr>\n",
       "      <th></th>\n",
       "      <th>count</th>\n",
       "      <th>mean</th>\n",
       "      <th>median</th>\n",
       "      <th>count</th>\n",
       "      <th>mean</th>\n",
       "      <th>median</th>\n",
       "      <th>count</th>\n",
       "      <th>mean</th>\n",
       "      <th>median</th>\n",
       "      <th>count</th>\n",
       "      <th>mean</th>\n",
       "      <th>median</th>\n",
       "      <th>count</th>\n",
       "      <th>mean</th>\n",
       "      <th>median</th>\n",
       "      <th>count</th>\n",
       "      <th>mean</th>\n",
       "      <th>median</th>\n",
       "      <th>count</th>\n",
       "      <th>mean</th>\n",
       "      <th>median</th>\n",
       "      <th>count</th>\n",
       "      <th>mean</th>\n",
       "      <th>median</th>\n",
       "    </tr>\n",
       "    <tr>\n",
       "      <th>hi_cluster_no</th>\n",
       "      <th></th>\n",
       "      <th></th>\n",
       "      <th></th>\n",
       "      <th></th>\n",
       "      <th></th>\n",
       "      <th></th>\n",
       "      <th></th>\n",
       "      <th></th>\n",
       "      <th></th>\n",
       "      <th></th>\n",
       "      <th></th>\n",
       "      <th></th>\n",
       "      <th></th>\n",
       "      <th></th>\n",
       "      <th></th>\n",
       "      <th></th>\n",
       "      <th></th>\n",
       "      <th></th>\n",
       "      <th></th>\n",
       "      <th></th>\n",
       "      <th></th>\n",
       "      <th></th>\n",
       "      <th></th>\n",
       "      <th></th>\n",
       "    </tr>\n",
       "  </thead>\n",
       "  <tbody>\n",
       "    <tr>\n",
       "      <th>1</th>\n",
       "      <td>6347</td>\n",
       "      <td>0.014</td>\n",
       "      <td>0.005</td>\n",
       "      <td>6347</td>\n",
       "      <td>0.009</td>\n",
       "      <td>0.000</td>\n",
       "      <td>6347</td>\n",
       "      <td>0.014</td>\n",
       "      <td>0.010</td>\n",
       "      <td>6347</td>\n",
       "      <td>0.012</td>\n",
       "      <td>0.006</td>\n",
       "      <td>6347</td>\n",
       "      <td>0.269</td>\n",
       "      <td>0.279</td>\n",
       "      <td>6347</td>\n",
       "      <td>0.279</td>\n",
       "      <td>0.194</td>\n",
       "      <td>6347</td>\n",
       "      <td>0.017</td>\n",
       "      <td>0.012</td>\n",
       "      <td>6347</td>\n",
       "      <td>0.019</td>\n",
       "      <td>0.010</td>\n",
       "    </tr>\n",
       "    <tr>\n",
       "      <th>2</th>\n",
       "      <td>10066</td>\n",
       "      <td>0.009</td>\n",
       "      <td>0.005</td>\n",
       "      <td>10066</td>\n",
       "      <td>0.008</td>\n",
       "      <td>0.000</td>\n",
       "      <td>10066</td>\n",
       "      <td>0.014</td>\n",
       "      <td>0.009</td>\n",
       "      <td>10066</td>\n",
       "      <td>0.010</td>\n",
       "      <td>0.006</td>\n",
       "      <td>10066</td>\n",
       "      <td>0.261</td>\n",
       "      <td>0.137</td>\n",
       "      <td>10066</td>\n",
       "      <td>0.171</td>\n",
       "      <td>0.173</td>\n",
       "      <td>10066</td>\n",
       "      <td>0.015</td>\n",
       "      <td>0.011</td>\n",
       "      <td>10066</td>\n",
       "      <td>0.013</td>\n",
       "      <td>0.010</td>\n",
       "    </tr>\n",
       "    <tr>\n",
       "      <th>3</th>\n",
       "      <td>2529</td>\n",
       "      <td>0.005</td>\n",
       "      <td>0.000</td>\n",
       "      <td>2529</td>\n",
       "      <td>0.007</td>\n",
       "      <td>0.000</td>\n",
       "      <td>2529</td>\n",
       "      <td>0.011</td>\n",
       "      <td>0.008</td>\n",
       "      <td>2529</td>\n",
       "      <td>0.007</td>\n",
       "      <td>0.005</td>\n",
       "      <td>2529</td>\n",
       "      <td>0.871</td>\n",
       "      <td>0.882</td>\n",
       "      <td>2529</td>\n",
       "      <td>0.127</td>\n",
       "      <td>0.108</td>\n",
       "      <td>2529</td>\n",
       "      <td>0.011</td>\n",
       "      <td>0.009</td>\n",
       "      <td>2529</td>\n",
       "      <td>0.009</td>\n",
       "      <td>0.005</td>\n",
       "    </tr>\n",
       "    <tr>\n",
       "      <th>4</th>\n",
       "      <td>4</td>\n",
       "      <td>0.595</td>\n",
       "      <td>0.525</td>\n",
       "      <td>4</td>\n",
       "      <td>0.002</td>\n",
       "      <td>0.000</td>\n",
       "      <td>4</td>\n",
       "      <td>0.029</td>\n",
       "      <td>0.022</td>\n",
       "      <td>4</td>\n",
       "      <td>0.701</td>\n",
       "      <td>0.767</td>\n",
       "      <td>4</td>\n",
       "      <td>0.109</td>\n",
       "      <td>0.070</td>\n",
       "      <td>4</td>\n",
       "      <td>0.772</td>\n",
       "      <td>0.896</td>\n",
       "      <td>4</td>\n",
       "      <td>0.702</td>\n",
       "      <td>0.770</td>\n",
       "      <td>4</td>\n",
       "      <td>0.594</td>\n",
       "      <td>0.522</td>\n",
       "    </tr>\n",
       "    <tr>\n",
       "      <th>5</th>\n",
       "      <td>1</td>\n",
       "      <td>0.005</td>\n",
       "      <td>0.005</td>\n",
       "      <td>1</td>\n",
       "      <td>1.000</td>\n",
       "      <td>1.000</td>\n",
       "      <td>1</td>\n",
       "      <td>0.565</td>\n",
       "      <td>0.565</td>\n",
       "      <td>1</td>\n",
       "      <td>0.003</td>\n",
       "      <td>0.003</td>\n",
       "      <td>1</td>\n",
       "      <td>0.567</td>\n",
       "      <td>0.567</td>\n",
       "      <td>1</td>\n",
       "      <td>0.150</td>\n",
       "      <td>0.150</td>\n",
       "      <td>1</td>\n",
       "      <td>0.225</td>\n",
       "      <td>0.225</td>\n",
       "      <td>1</td>\n",
       "      <td>0.545</td>\n",
       "      <td>0.545</td>\n",
       "    </tr>\n",
       "    <tr>\n",
       "      <th>6</th>\n",
       "      <td>998</td>\n",
       "      <td>0.021</td>\n",
       "      <td>0.010</td>\n",
       "      <td>998</td>\n",
       "      <td>0.008</td>\n",
       "      <td>0.000</td>\n",
       "      <td>998</td>\n",
       "      <td>0.013</td>\n",
       "      <td>0.009</td>\n",
       "      <td>998</td>\n",
       "      <td>0.014</td>\n",
       "      <td>0.008</td>\n",
       "      <td>998</td>\n",
       "      <td>0.704</td>\n",
       "      <td>0.690</td>\n",
       "      <td>998</td>\n",
       "      <td>0.569</td>\n",
       "      <td>0.555</td>\n",
       "      <td>998</td>\n",
       "      <td>0.019</td>\n",
       "      <td>0.014</td>\n",
       "      <td>998</td>\n",
       "      <td>0.026</td>\n",
       "      <td>0.015</td>\n",
       "    </tr>\n",
       "  </tbody>\n",
       "</table>\n",
       "</div>"
      ],
      "text/plain": [
       "              NUM_ORDERS_ONLINE              NUM_ORDERS_OFFLINE              SPEND_OFFLINE_TOTAL              SPEND_ONLINE_TOTAL              RECENCY              TENURE              MONETARY              FREQUENCY             \n",
       "                          count  mean median              count  mean median               count  mean median              count  mean median   count  mean median  count  mean median    count  mean median     count  mean median\n",
       "hi_cluster_no                                                                                                                                                                                                                      \n",
       "1                          6347 0.014  0.005               6347 0.009  0.000                6347 0.014  0.010               6347 0.012  0.006    6347 0.269  0.279   6347 0.279  0.194     6347 0.017  0.012      6347 0.019  0.010\n",
       "2                         10066 0.009  0.005              10066 0.008  0.000               10066 0.014  0.009              10066 0.010  0.006   10066 0.261  0.137  10066 0.171  0.173    10066 0.015  0.011     10066 0.013  0.010\n",
       "3                          2529 0.005  0.000               2529 0.007  0.000                2529 0.011  0.008               2529 0.007  0.005    2529 0.871  0.882   2529 0.127  0.108     2529 0.011  0.009      2529 0.009  0.005\n",
       "4                             4 0.595  0.525                  4 0.002  0.000                   4 0.029  0.022                  4 0.701  0.767       4 0.109  0.070      4 0.772  0.896        4 0.702  0.770         4 0.594  0.522\n",
       "5                             1 0.005  0.005                  1 1.000  1.000                   1 0.565  0.565                  1 0.003  0.003       1 0.567  0.567      1 0.150  0.150        1 0.225  0.225         1 0.545  0.545\n",
       "6                           998 0.021  0.010                998 0.008  0.000                 998 0.013  0.009                998 0.014  0.008     998 0.704  0.690    998 0.569  0.555      998 0.019  0.014       998 0.026  0.015"
      ]
     },
     "execution_count": 73,
     "metadata": {},
     "output_type": "execute_result"
    }
   ],
   "source": [
    "## Clusterbasierte Zusammenfassung (nur numerische Spalten)\n",
    "# Nur numerische Spalten ohne K-Means Cluster\n",
    "numeric_cols_without_kmeans = [col for col in numeric_cols if col != \"kmeans_cluster_no\"]\n",
    "\n",
    "# Clusterbasierte Zusammenfassung\n",
    "df.groupby(\"hi_cluster_no\")[numeric_cols_without_kmeans].agg([\"count\",\"mean\",\"median\"])"
   ]
  },
  {
   "cell_type": "markdown",
   "id": "9fe78dbb",
   "metadata": {},
   "source": [
    "️#Cluster 1 (hi_cluster_no = 1)\n",
    "\n",
    "Größe: 6347 Kunden → großer Cluster\n",
    "\n",
    "Recency: Mittel (~0,27) → letzter Kauf relativ nah\n",
    "\n",
    "Frequency: Mittel (~0,019)\n",
    "\n",
    "Monetary: Mittel (~0,279)\n",
    "\n",
    "Regelmäßige Kunden mit mittlerem Kaufverhalten. \n",
    "\n",
    "\n",
    "️#Cluster 2 (hi_cluster_no = 2)\n",
    "\n",
    "Größe: 10066 Kunden → größter Cluster\n",
    "\n",
    "Recency: Mittel (~0,26)\n",
    "\n",
    "Frequency: Niedrig (~0,013)\n",
    "\n",
    "Monetary: Mittel (~0,171)\n",
    "\n",
    "Weniger aktive, große Kundengruppe. Durch Marketingmaßnahmen kann Aktivität gesteigert werden.\n",
    "\n",
    "\n",
    "️#Cluster 3 (hi_cluster_no = 3)\n",
    "\n",
    "Größe: 2529 Kunden\n",
    "\n",
    "Recency: Hoch (~0,87) → lange kein Kauf\n",
    "\n",
    "Frequency: Sehr niedrig (~0,009)\n",
    "\n",
    "Monetary: Sehr niedrig (~0,127)\n",
    "\n",
    "Ehemalige oder inaktive Kunden. Rückgewinnungskampagnen sinnvoll.\n",
    "    \n",
    "\n",
    "️#Clusterer 4 (hi_cluster_no = 4)\n",
    "\n",
    "Größe: 4 Kunden → sehr kleiner Cluster\n",
    "\n",
    "Recency / Frequency / Monetary: Sehr hoch oder Ausreißerwerte\n",
    "\n",
    "Ausreißer / extreme Kunden. Können für die Analyse ausgeschlossen werden.\n",
    "    \n",
    "\n",
    "️#Cluster 5 (hi_cluster_no = 5)\n",
    "\n",
    "Größe: 1 Kunde → einzelner Ausreißer\n",
    "\n",
    "Definitiv ein Ausreißer, für normale Clusteranalyse nicht sinnvoll.\n",
    "\n",
    "    \n",
    "️#Cluster 6 (hi_cluster_no = 6)\n",
    "\n",
    "Größe: 998 Kunden\n",
    "\n",
    "Recency: Mittel (~0,70)\n",
    "\n",
    "Frequency: Mittel (~0,026)\n",
    "\n",
    "Monetary: Mittel (~0,569)\n",
    "\n",
    "Treue und regelmäßige Kunden.\n",
    "\n",
    "\n",
    "\n",
    "Große Cluster mit mittlerem Verhalten: Cluster 1, 2, 6 → Marketingaktionen sinnvoll\n",
    "\n",
    "Verlorene oder inaktive Kunden: Cluster 3 → Rückgewinnungskampagnen\n",
    "\n",
    "Ausreißer / extreme Werte: Cluster 4 und 5 → können für Analyse ausgeschlossen werden"
   ]
  }
 ],
 "metadata": {
  "kernelspec": {
   "display_name": "clustering_env",
   "language": "python",
   "name": "python3"
  },
  "language_info": {
   "codemirror_mode": {
    "name": "ipython",
    "version": 3
   },
   "file_extension": ".py",
   "mimetype": "text/x-python",
   "name": "python",
   "nbconvert_exporter": "python",
   "pygments_lexer": "ipython3",
   "version": "3.13.3"
  }
 },
 "nbformat": 4,
 "nbformat_minor": 5
}
